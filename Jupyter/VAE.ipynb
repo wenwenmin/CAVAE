{
 "cells": [
  {
   "cell_type": "code",
   "execution_count": 1,
   "metadata": {
    "collapsed": true
   },
   "outputs": [
    {
     "name": "stderr",
     "output_type": "stream",
     "text": [
      "/home/minwenwen/.conda/envs/lxy/lib/python3.8/site-packages/tqdm/auto.py:22: TqdmWarning: IProgress not found. Please update jupyter and ipywidgets. See https://ipywidgets.readthedocs.io/en/stable/user_install.html\n",
      "  from .autonotebook import tqdm as notebook_tqdm\n"
     ]
    }
   ],
   "source": [
    "import pandas as pd\n",
    "import numpy as np\n",
    "import torch\n",
    "import torch.nn as nn\n",
    "import matplotlib.pyplot as plt\n",
    "import torch.nn.functional as F\n",
    "from torch.utils.data import Dataset, DataLoader, Subset\n",
    "from sklearn.model_selection import train_test_split, KFold\n",
    "from sklearn.metrics import confusion_matrix,roc_curve,auc,recall_score, precision_score,accuracy_score,matthews_corrcoef\n",
    "import matplotlib.pyplot as plt\n",
    "from matplotlib.ticker import MultipleLocator\n",
    "import warnings\n",
    "warnings.filterwarnings(\"ignore\")\n",
    "from sklearn import svm\n",
    "from sklearn.svm import SVC\n",
    "from sklearn.linear_model import LogisticRegression\n",
    "from sklearn.tree import DecisionTreeClassifier\n",
    "from sklearn.ensemble import RandomForestClassifier\n",
    "from tqdm import tqdm\n",
    "from torch.utils.data import random_split\n",
    "import wandb\n"
   ]
  },
  {
   "cell_type": "code",
   "execution_count": 2,
   "outputs": [],
   "source": [
    "# wandb.login(key=\"18d6f46349c3e0570c6871db6fdbb1bb324f5573\")\n",
    "# wandb.init(project = \"VAE\")"
   ],
   "metadata": {
    "collapsed": false
   }
  },
  {
   "cell_type": "code",
   "execution_count": 3,
   "outputs": [
    {
     "data": {
      "text/plain": "'NVIDIA GeForce RTX 3090 Ti'"
     },
     "execution_count": 3,
     "metadata": {},
     "output_type": "execute_result"
    }
   ],
   "source": [
    "torch.manual_seed(3407)\n",
    "device = torch.device('cuda' if torch.cuda.is_available() else 'cpu')\n",
    "# device = torch.device('cpu')\n",
    "torch.cuda.get_device_name()"
   ],
   "metadata": {
    "collapsed": false
   }
  },
  {
   "cell_type": "code",
   "execution_count": 4,
   "outputs": [
    {
     "name": "stdout",
     "output_type": "stream",
     "text": [
      "##########第1折##########\n"
     ]
    },
    {
     "name": "stderr",
     "output_type": "stream",
     "text": [
      "100%|██████████████████████████████████████████████████████████████████████████████████████████████████████████████████████████████████████████████████████████████████████████████████████████████████████████████████████| 100/100 [00:04<00:00, 22.20it/s]\n"
     ]
    },
    {
     "name": "stdout",
     "output_type": "stream",
     "text": [
      "##########第2折##########\n"
     ]
    },
    {
     "name": "stderr",
     "output_type": "stream",
     "text": [
      "100%|██████████████████████████████████████████████████████████████████████████████████████████████████████████████████████████████████████████████████████████████████████████████████████████████████████████████████████| 100/100 [00:02<00:00, 33.65it/s]\n"
     ]
    },
    {
     "name": "stdout",
     "output_type": "stream",
     "text": [
      "##########第3折##########\n"
     ]
    },
    {
     "name": "stderr",
     "output_type": "stream",
     "text": [
      "100%|██████████████████████████████████████████████████████████████████████████████████████████████████████████████████████████████████████████████████████████████████████████████████████████████████████████████████████| 100/100 [00:02<00:00, 33.47it/s]\n"
     ]
    },
    {
     "name": "stdout",
     "output_type": "stream",
     "text": [
      "##########第4折##########\n"
     ]
    },
    {
     "name": "stderr",
     "output_type": "stream",
     "text": [
      "100%|██████████████████████████████████████████████████████████████████████████████████████████████████████████████████████████████████████████████████████████████████████████████████████████████████████████████████████| 100/100 [00:03<00:00, 31.62it/s]\n"
     ]
    },
    {
     "name": "stdout",
     "output_type": "stream",
     "text": [
      "##########第5折##########\n"
     ]
    },
    {
     "name": "stderr",
     "output_type": "stream",
     "text": [
      "100%|██████████████████████████████████████████████████████████████████████████████████████████████████████████████████████████████████████████████████████████████████████████████████████████████████████████████████████| 100/100 [00:02<00:00, 33.43it/s]\n"
     ]
    }
   ],
   "source": [
    "clincal_data_path = '/data/minwenwen/lixiaoyu/TCGA/data/BRCA/BRCA-300/BRCA_Clinical.csv'\n",
    "cna_data_path = '/data/minwenwen/lixiaoyu/TCGA/data/BRCA/BRCA-300/BRCA_CNA.csv'\n",
    "gene_data_path = '/data/minwenwen/lixiaoyu/TCGA/data/BRCA/BRCA-300/BRCA_RNA_V2_EXP.csv'\n",
    "micro_data_path = '/data/minwenwen/lixiaoyu/TCGA/data/BRCA/BRCA-300/BRCA_microbiome.csv'\n",
    "label_data_path = '/data/minwenwen/lixiaoyu/TCGA/data/BRCA/BRCA-300/BRCA_label.csv'\n",
    "class dataset(Dataset):\n",
    "    def __init__(self, clincal_path, cna_path, gene_path, micro_path, label_path):\n",
    "        super(dataset, self).__init__()\n",
    "        self.clincal_data = pd.read_csv(clincal_path, index_col=0)\n",
    "        self.clincal_data = torch.tensor(self.clincal_data.values, dtype=torch.float32)\n",
    "\n",
    "        self.cna_data = pd.read_csv(cna_path, index_col=0)\n",
    "        self.cna_data = torch.tensor(self.cna_data.values, dtype=torch.float32)\n",
    "\n",
    "        self.gene_data = pd.read_csv(gene_path, index_col=0)\n",
    "        self.gene_data = torch.tensor(self.gene_data.values, dtype=torch.float32)\n",
    "\n",
    "        self.micro_data = pd.read_csv(micro_path, index_col=0)\n",
    "        self.micro_data = torch.tensor(self.micro_data.values, dtype=torch.float32)\n",
    "\n",
    "        self.label = pd.read_csv(label_path)\n",
    "\n",
    "        self.x_data = torch.cat((self.clincal_data, self.cna_data, self.gene_data, self.micro_data), dim = 1)\n",
    "        self.y_data = torch.tensor(self.label.values, dtype=torch.float32)\n",
    "\n",
    "\n",
    "    def __getitem__(self, idx):\n",
    "        return self.x_data[idx], self.y_data[idx]\n",
    "\n",
    "    def __len__(self):\n",
    "        return len(self.x_data)\n",
    "\n",
    "tcga_data = dataset(clincal_data_path, cna_data_path, gene_data_path, micro_data_path, label_data_path)\n",
    "in_features = tcga_data.x_data.shape[1]\n",
    "\n",
    "class Sample(nn.Module):\n",
    "    def __init__(self):\n",
    "        super(Sample, self).__init__()\n",
    "    def forward(self, z_mean, z_log_var):\n",
    "        eps = torch.randn(z_mean.shape)\n",
    "        eps = eps.to(device)\n",
    "        std = torch.exp(z_log_var / 2)\n",
    "        out = z_mean + std*eps\n",
    "        return out\n",
    "\n",
    "class Encoder(nn.Module):\n",
    "    def __init__(self):\n",
    "        super(Encoder, self).__init__()\n",
    "        self.model = nn.Sequential(\n",
    "            nn.Linear(in_features, 256),\n",
    "            nn.Dropout(p=0.15, inplace=False),\n",
    "            nn.ReLU(),\n",
    "            nn.Linear(256, 64),\n",
    "            nn.Dropout(p=0.15, inplace=False),\n",
    "            nn.ReLU(),\n",
    "            nn.Linear(64, 32),\n",
    "            nn.Dropout(p=0.15, inplace=False),\n",
    "            nn.ReLU()\n",
    "        )\n",
    "        self.z_mean = nn.Linear(32, 6)\n",
    "        self.z_log_var = nn.Linear(32, 6)\n",
    "        self.sample = Sample()\n",
    "\n",
    "    def forward(self, x):\n",
    "        out = self.model(x)\n",
    "        z_mean = self.z_mean(out)\n",
    "        z_log_var = self.z_log_var(out)\n",
    "        out = self.sample(z_mean, z_log_var)\n",
    "        return out, z_mean, z_log_var\n",
    "\n",
    "class Decoder(nn.Module):\n",
    "    def __init__(self):\n",
    "        super(Decoder, self).__init__()\n",
    "        self.model = nn.Sequential(\n",
    "            nn.Linear(6, 32),\n",
    "            nn.Dropout(p=0.15, inplace=False),\n",
    "            nn.ReLU(),\n",
    "            nn.Linear(32, 64),\n",
    "            nn.Dropout(p=0.15, inplace=False),\n",
    "            nn.ReLU(),\n",
    "            nn.Linear(64, 256),\n",
    "            nn.Dropout(p=0.15, inplace=False),\n",
    "            nn.ReLU(),\n",
    "            nn.Linear(256, 50),\n",
    "            nn.Dropout(p=0.15, inplace=False),\n",
    "            nn.ReLU()\n",
    "        )\n",
    "\n",
    "    def forward(self, z):\n",
    "        out = self.model(z)\n",
    "        return out\n",
    "\n",
    "class Classfier(nn.Module):\n",
    "    def __init__(self):\n",
    "        super(Classfier, self).__init__()\n",
    "        self.model = nn.Sequential(\n",
    "            nn.Linear(50, 200, bias = True), #input layer\n",
    "            nn.BatchNorm1d(200, eps = 1e-3),\n",
    "            nn.ReLU(),\n",
    "            nn.Dropout(p=0.78, inplace=False),\n",
    "            nn.Linear(200, 400, bias = True), # 1 hidden layer\n",
    "            nn.BatchNorm1d(400, eps = 1e-3),\n",
    "            nn.ReLU(),\n",
    "            nn.Dropout(p=0.78, inplace=False),\n",
    "            nn.Linear(400, 100, bias = True), # 2 hidden layer\n",
    "            nn.BatchNorm1d(100, eps = 1e-3),\n",
    "            nn.ReLU(),\n",
    "            nn.Dropout(p=0.78, inplace=False),\n",
    "            nn.Linear(100, 2, bias = True), # 2 hidden layer\n",
    "            nn.Softmax(dim = 1)    #outpust layer\n",
    "        )\n",
    "    def forward(self, x):\n",
    "        x = self.model(x)\n",
    "        return x\n",
    "\n",
    "class VAE_A(nn.Module):\n",
    "    def __init__(self):\n",
    "        super(VAE_A, self).__init__()\n",
    "        self.encoder = Encoder()\n",
    "        self.decoder = Decoder()\n",
    "        self.classfier = Classfier()\n",
    "    def forward(self, x):\n",
    "        x, mean, var = self.encoder(x)\n",
    "        x = self.decoder(x)\n",
    "        x = self.classfier(x)\n",
    "        return x\n",
    "\n",
    "# train_set, test_set = random_split(data, [749, 321])\n",
    "# train_set, valid_set = random_split(train_set, [428, 321])\n",
    "# train_dataloader = DataLoader(train_set, batch_size=len(train_set))\n",
    "# valid_dataloader = DataLoader(valid_set, batch_size=len(valid_set))\n",
    "# test_dataloader = DataLoader(test_set, batch_size=len(test_set))\n",
    "\n",
    "model = VAE_A()\n",
    "learning_rate = 1e-5\n",
    "model.to(device)\n",
    "optimizer = torch.optim.Adamax(model.parameters(), lr=learning_rate)\n",
    "criterion = nn.CrossEntropyLoss()\n",
    "criterion.to(device)\n",
    "num_epoch = 100\n",
    "max_accuracy = 0\n",
    "total_vae_a_y_pred = 0\n",
    "total_vae_a_y_t = 0\n",
    "kfold = KFold(n_splits = 5)\n",
    "k_num = 1\n",
    "for train_idx, valid_idx in kfold.split(tcga_data):\n",
    "    print(\"##########第{}折##########\".format(k_num))\n",
    "    k_num = k_num + 1\n",
    "    train_set = Subset(tcga_data, train_idx)\n",
    "    test_set = Subset(tcga_data, valid_idx)\n",
    "    train_set, valid_set = train_test_split(train_set, test_size=0.2, random_state=3407)\n",
    "    train_dataloader = DataLoader(train_set, batch_size=len(train_set))\n",
    "    valid_dataloader = DataLoader(valid_set, batch_size=len(valid_set))\n",
    "    test_dataloader = DataLoader(test_set, batch_size=len(test_set))\n",
    "    for epoch in tqdm(range(num_epoch)):\n",
    "        model.train()\n",
    "        for data in train_dataloader:\n",
    "            x_data, y_t = data\n",
    "            x_data = x_data.to(device)\n",
    "            y_t = y_t.to(device)\n",
    "            y_t = y_t.squeeze(dim = 1)\n",
    "            y_pred = model(x_data)\n",
    "            loss = criterion(y_pred, y_t.long())\n",
    "            optimizer.zero_grad()\n",
    "            loss.backward()\n",
    "            optimizer.step()\n",
    "\n",
    "        model.eval()\n",
    "        total_test_loss = 0\n",
    "        total_accuracy = 0\n",
    "        with torch.no_grad():\n",
    "            for data in valid_dataloader:\n",
    "                x_data , y_t = data\n",
    "                x_data = x_data.to(device)\n",
    "                y_t = y_t.to(device)\n",
    "                y_pred = model(x_data)\n",
    "                y_t = y_t.squeeze(dim = 1)\n",
    "                loss = criterion(y_pred, y_t.long())\n",
    "                # wandb.log({'valid loss':loss})\n",
    "                total_test_loss = total_test_loss + loss.item()\n",
    "                accuracy = (y_pred.argmax(1) == y_t).sum()\n",
    "                total_accuracy = total_accuracy + accuracy\n",
    "        # print(\"Validation set's Loss：{}\".format(total_test_loss/num_epoch))\n",
    "        if((total_accuracy/len(valid_set)) > max_accuracy):\n",
    "            max_accuracy = total_accuracy/len(valid_set)\n",
    "            torch.save(model, \"/data/minwenwen/lixiaoyu/TCGA/Model/VAE_A_Best.pth\")\n",
    "\n",
    "    model = torch.load('/data/minwenwen/lixiaoyu/TCGA/Model/VAE_A_Best.pth')\n",
    "    model.eval()\n",
    "    with torch.no_grad():\n",
    "        for data in test_dataloader:\n",
    "            x_data , vae_a_y_t = data\n",
    "            x_data = x_data.to(device)\n",
    "            vae_a_y_t = vae_a_y_t.to(device)\n",
    "            vae_a_y_pred = model(x_data)\n",
    "            vae_a_y_t = vae_a_y_t.squeeze(dim = 1)\n",
    "\n",
    "            vae_a_y_t = vae_a_y_t.cpu().numpy()\n",
    "            vae_a_y_pred = vae_a_y_pred.cpu().numpy()\n",
    "            vae_a_y_pred = np.amin(vae_a_y_pred, axis=1)\n",
    "\n",
    "            total_vae_a_y_pred = np.r_[vae_a_y_pred, total_vae_a_y_pred]\n",
    "            total_vae_a_y_t = np.r_[vae_a_y_t, total_vae_a_y_t]"
   ],
   "metadata": {
    "collapsed": false
   }
  },
  {
   "cell_type": "code",
   "execution_count": 5,
   "outputs": [
    {
     "name": "stdout",
     "output_type": "stream",
     "text": [
      "##########第1折##########\n"
     ]
    },
    {
     "name": "stderr",
     "output_type": "stream",
     "text": [
      "100%|██████████████████████████████████████████████████████████████████████████████████████████████████████████████████████████████████████████████████████████████████████████████████████████████████████████████████████| 100/100 [00:03<00:00, 31.32it/s]\n"
     ]
    },
    {
     "name": "stdout",
     "output_type": "stream",
     "text": [
      "##########第2折##########\n"
     ]
    },
    {
     "name": "stderr",
     "output_type": "stream",
     "text": [
      "100%|██████████████████████████████████████████████████████████████████████████████████████████████████████████████████████████████████████████████████████████████████████████████████████████████████████████████████████| 100/100 [00:03<00:00, 33.23it/s]\n"
     ]
    },
    {
     "name": "stdout",
     "output_type": "stream",
     "text": [
      "##########第3折##########\n"
     ]
    },
    {
     "name": "stderr",
     "output_type": "stream",
     "text": [
      "100%|██████████████████████████████████████████████████████████████████████████████████████████████████████████████████████████████████████████████████████████████████████████████████████████████████████████████████████| 100/100 [00:02<00:00, 33.34it/s]\n"
     ]
    },
    {
     "name": "stdout",
     "output_type": "stream",
     "text": [
      "##########第4折##########\n"
     ]
    },
    {
     "name": "stderr",
     "output_type": "stream",
     "text": [
      "100%|██████████████████████████████████████████████████████████████████████████████████████████████████████████████████████████████████████████████████████████████████████████████████████████████████████████████████████| 100/100 [00:02<00:00, 34.03it/s]\n"
     ]
    },
    {
     "name": "stdout",
     "output_type": "stream",
     "text": [
      "##########第5折##########\n"
     ]
    },
    {
     "name": "stderr",
     "output_type": "stream",
     "text": [
      "100%|██████████████████████████████████████████████████████████████████████████████████████████████████████████████████████████████████████████████████████████████████████████████████████████████████████████████████████| 100/100 [00:02<00:00, 33.53it/s]\n"
     ]
    }
   ],
   "source": [
    "#VAE_B\n",
    "class dataset(Dataset):\n",
    "    def __init__(self, clincal_path, cna_path, gene_path, micro_path, label_path):\n",
    "        super(dataset, self).__init__()\n",
    "        self.clincal_data = pd.read_csv(clincal_path, index_col=0)\n",
    "        self.clincal_data = torch.tensor(self.clincal_data.values, dtype=torch.float32)\n",
    "\n",
    "        self.cna_data = pd.read_csv(cna_path, index_col=0)\n",
    "        self.cna_data = torch.tensor(self.cna_data.values, dtype=torch.float32)\n",
    "\n",
    "        self.gene_data = pd.read_csv(gene_path, index_col=0)\n",
    "        self.gene_data = torch.tensor(self.gene_data.values, dtype=torch.float32)\n",
    "\n",
    "        self.micro_data = pd.read_csv(micro_path, index_col=0)\n",
    "        self.micro_data = torch.tensor(self.micro_data.values, dtype=torch.float32)\n",
    "\n",
    "        self.label = pd.read_csv(label_path)\n",
    "\n",
    "        self.x_data = torch.cat((self.clincal_data, self.cna_data, self.gene_data, self.micro_data), dim = 1)\n",
    "        self.y_data = torch.tensor(self.label.values, dtype=torch.float32)\n",
    "\n",
    "\n",
    "    def __getitem__(self, idx):\n",
    "        return self.x_data[idx], self.y_data[idx]\n",
    "\n",
    "    def __len__(self):\n",
    "        return len(self.x_data)\n",
    "\n",
    "tcga_data = dataset(clincal_data_path, cna_data_path, gene_data_path, micro_data_path, label_data_path)\n",
    "in_features = tcga_data.x_data.shape[1]\n",
    "\n",
    "class Sample(nn.Module):\n",
    "    def __init__(self):\n",
    "        super(Sample, self).__init__()\n",
    "    def forward(self, z_mean, z_log_var):\n",
    "        eps = torch.randn(z_mean.shape)\n",
    "        eps = eps.to(device)\n",
    "        std = torch.exp(z_log_var / 2)\n",
    "        out = z_mean + std*eps\n",
    "        return out\n",
    "\n",
    "class Encoder(nn.Module):\n",
    "    def __init__(self):\n",
    "        super(Encoder, self).__init__()\n",
    "        self.model = nn.Sequential(\n",
    "            nn.Linear(in_features, 512),\n",
    "            nn.Dropout(p=0.45, inplace=False),\n",
    "            nn.ReLU(),\n",
    "            nn.Linear(512, 256),\n",
    "            nn.Dropout(p=0.35, inplace=False),\n",
    "            nn.ReLU(),\n",
    "            nn.Linear(256, 64),\n",
    "            nn.Dropout(p=0.25, inplace=False),\n",
    "            nn.ReLU(),\n",
    "            nn.Linear(64, 32),\n",
    "            nn.Dropout(p=0.15, inplace=False),\n",
    "            nn.ReLU()\n",
    "        )\n",
    "        self.z_mean = nn.Linear(32, 6)\n",
    "        self.z_log_var = nn.Linear(32, 6)\n",
    "        self.sample = Sample()\n",
    "\n",
    "    def forward(self, x):\n",
    "        out = self.model(x)\n",
    "        z_mean = self.z_mean(out)\n",
    "        z_log_var = self.z_log_var(out)\n",
    "        out = self.sample(z_mean, z_log_var)\n",
    "        return out, z_mean, z_log_var\n",
    "\n",
    "class Decoder(nn.Module):\n",
    "    def __init__(self):\n",
    "        super(Decoder, self).__init__()\n",
    "        self.model = nn.Sequential(\n",
    "            nn.Linear(6, 32),\n",
    "            nn.Dropout(p=0.15, inplace=False),\n",
    "            nn.ReLU(),\n",
    "            nn.Linear(32, 64),\n",
    "            nn.Dropout(p=0.15, inplace=False),\n",
    "            nn.ReLU(),\n",
    "            nn.Linear(64, 256),\n",
    "            nn.Dropout(p=0.25, inplace=False),\n",
    "            nn.ReLU(),\n",
    "            nn.Linear(256, 512),\n",
    "            nn.Dropout(p=0.35, inplace=False),\n",
    "            nn.ReLU(),\n",
    "             nn.Linear(512, in_features),\n",
    "            nn.Dropout(p=0.45, inplace=False),\n",
    "            nn.ReLU()\n",
    "        )\n",
    "\n",
    "    def forward(self, z):\n",
    "        out = self.model(z)\n",
    "        return out\n",
    "\n",
    "class Classfier(nn.Module):\n",
    "    def __init__(self):\n",
    "        super(Classfier, self).__init__()\n",
    "        self.model = nn.Sequential(\n",
    "            nn.Linear(in_features, 200, bias = True), #input layer\n",
    "            nn.BatchNorm1d(200, eps = 1e-3),\n",
    "            nn.ReLU(),\n",
    "            nn.Dropout(p=0.78, inplace=False),\n",
    "            nn.Linear(200, 400, bias = True), # 1 hidden layer\n",
    "            nn.BatchNorm1d(400, eps = 1e-3),\n",
    "            nn.ReLU(),\n",
    "            nn.Dropout(p=0.78, inplace=False),\n",
    "            nn.Linear(400, 100, bias = True), # 2 hidden layer\n",
    "            nn.BatchNorm1d(100, eps = 1e-3),\n",
    "            nn.ReLU(),\n",
    "            nn.Dropout(p=0.78, inplace=False),\n",
    "            nn.Linear(100, 2, bias = True), # 2 hidden layer\n",
    "            nn.Softmax(dim = 1)    #outpust layer\n",
    "        )\n",
    "    def forward(self, x):\n",
    "        x = self.model(x)\n",
    "        return x\n",
    "\n",
    "class VAE_B(nn.Module):\n",
    "    def __init__(self):\n",
    "        super(VAE_B, self).__init__()\n",
    "        self.encoder = Encoder()\n",
    "        self.decoder = Decoder()\n",
    "        self.classfier = Classfier()\n",
    "    def forward(self, x):\n",
    "        x, mean, var = self.encoder(x)\n",
    "        x = self.decoder(x)\n",
    "        x = self.classfier(x)\n",
    "        return x\n",
    "\n",
    "# train_set, test_set = random_split(data, [749, 321])\n",
    "# train_set, valid_set = random_split(train_set, [428, 321])\n",
    "# train_dataloader = DataLoader(train_set, batch_size=len(train_set))\n",
    "# valid_dataloader = DataLoader(valid_set, batch_size=len(valid_set))\n",
    "# test_dataloader = DataLoader(test_set, batch_size=len(test_set))\n",
    "\n",
    "model = VAE_B()\n",
    "\n",
    "model.to(device)\n",
    "# optimizer = torch.optim.Adamax(model.parameters(), lr=learning_rate)\n",
    "criterion = nn.CrossEntropyLoss()\n",
    "criterion.to(device)\n",
    "num_epoch = 100\n",
    "max_accuracy = 0\n",
    "total_vae_b_y_pred = 0\n",
    "total_vae_b_y_t = 0\n",
    "kfold = KFold(n_splits = 5)\n",
    "k_num = 1\n",
    "for train_idx, valid_idx in kfold.split(tcga_data):\n",
    "    print(\"##########第{}折##########\".format(k_num))\n",
    "    k_num = k_num + 1\n",
    "    train_set = Subset(tcga_data, train_idx)\n",
    "    test_set = Subset(tcga_data, valid_idx)\n",
    "    train_set, valid_set = train_test_split(train_set, test_size=0.2, random_state=3407)\n",
    "    train_dataloader = DataLoader(train_set, batch_size=len(train_set))\n",
    "    valid_dataloader = DataLoader(valid_set, batch_size=len(valid_set))\n",
    "    test_dataloader = DataLoader(test_set, batch_size=len(test_set))\n",
    "    for epoch in tqdm(range(num_epoch)):\n",
    "        model.train()\n",
    "        for data in train_dataloader:\n",
    "            x_data, y_t = data\n",
    "            x_data = x_data.to(device)\n",
    "            y_t = y_t.to(device)\n",
    "            y_t = y_t.squeeze(dim = 1)\n",
    "            y_pred = model(x_data)\n",
    "            loss = criterion(y_pred, y_t.long())\n",
    "            optimizer.zero_grad()\n",
    "            loss.backward()\n",
    "            optimizer.step()\n",
    "\n",
    "        model.eval()\n",
    "        total_test_loss = 0\n",
    "        total_accuracy = 0\n",
    "        with torch.no_grad():\n",
    "            for data in valid_dataloader:\n",
    "                x_data , y_t = data\n",
    "                x_data = x_data.to(device)\n",
    "                y_t = y_t.to(device)\n",
    "                y_pred = model(x_data)\n",
    "                y_t = y_t.squeeze(dim = 1)\n",
    "                loss = criterion(y_pred, y_t.long())\n",
    "                # wandb.log({'valid loss':loss})\n",
    "                total_test_loss = total_test_loss + loss.item()\n",
    "                accuracy = (y_pred.argmax(1) == y_t).sum()\n",
    "                total_accuracy = total_accuracy + accuracy\n",
    "        # print(\"Validation set's Loss：{}\".format(total_test_loss/num_epoch))\n",
    "        if((total_accuracy/len(valid_set)) > max_accuracy):\n",
    "            max_accuracy = total_accuracy/len(valid_set)\n",
    "            torch.save(model, \"/data/minwenwen/lixiaoyu/TCGA/Model/VAE_B_Best.pth\")\n",
    "\n",
    "    model = torch.load('/data/minwenwen/lixiaoyu/TCGA/Model/VAE_A_Best.pth')\n",
    "    model.eval()\n",
    "    with torch.no_grad():\n",
    "        for data in test_dataloader:\n",
    "            x_data , vae_b_y_t = data\n",
    "            x_data = x_data.to(device)\n",
    "            vae_b_y_t = vae_b_y_t.to(device)\n",
    "            vae_b_y_pred = model(x_data)\n",
    "            vae_b_y_t = vae_b_y_t.squeeze(dim = 1)\n",
    "\n",
    "            vae_b_y_t = vae_b_y_t.cpu().numpy()\n",
    "            vae_b_y_pred = vae_b_y_pred.cpu().numpy()\n",
    "            vae_b_y_pred = np.amin(vae_b_y_pred, axis=1)\n",
    "\n",
    "            total_vae_b_y_pred = np.r_[vae_b_y_pred, total_vae_b_y_pred]\n",
    "            total_vae_b_y_t = np.r_[vae_b_y_t, total_vae_b_y_t]"
   ],
   "metadata": {
    "collapsed": false
   }
  },
  {
   "cell_type": "code",
   "execution_count": 6,
   "outputs": [
    {
     "name": "stdout",
     "output_type": "stream",
     "text": [
      "##########第1折##########\n"
     ]
    },
    {
     "name": "stderr",
     "output_type": "stream",
     "text": [
      "100%|██████████████████████████████████████████████████████████████████████████████████████████████████████████████████████████████████████████████████████████████████████████████████████████████████████████████████████| 100/100 [00:02<00:00, 36.91it/s]\n"
     ]
    },
    {
     "name": "stdout",
     "output_type": "stream",
     "text": [
      "##########第2折##########\n"
     ]
    },
    {
     "name": "stderr",
     "output_type": "stream",
     "text": [
      "100%|██████████████████████████████████████████████████████████████████████████████████████████████████████████████████████████████████████████████████████████████████████████████████████████████████████████████████████| 100/100 [00:03<00:00, 33.10it/s]\n"
     ]
    },
    {
     "name": "stdout",
     "output_type": "stream",
     "text": [
      "##########第3折##########\n"
     ]
    },
    {
     "name": "stderr",
     "output_type": "stream",
     "text": [
      "100%|██████████████████████████████████████████████████████████████████████████████████████████████████████████████████████████████████████████████████████████████████████████████████████████████████████████████████████| 100/100 [00:03<00:00, 32.99it/s]\n"
     ]
    },
    {
     "name": "stdout",
     "output_type": "stream",
     "text": [
      "##########第4折##########\n"
     ]
    },
    {
     "name": "stderr",
     "output_type": "stream",
     "text": [
      "100%|██████████████████████████████████████████████████████████████████████████████████████████████████████████████████████████████████████████████████████████████████████████████████████████████████████████████████████| 100/100 [00:03<00:00, 32.94it/s]\n"
     ]
    },
    {
     "name": "stdout",
     "output_type": "stream",
     "text": [
      "##########第5折##########\n"
     ]
    },
    {
     "name": "stderr",
     "output_type": "stream",
     "text": [
      "100%|██████████████████████████████████████████████████████████████████████████████████████████████████████████████████████████████████████████████████████████████████████████████████████████████████████████████████████| 100/100 [00:02<00:00, 33.40it/s]\n"
     ]
    }
   ],
   "source": [
    "#VAE_C\n",
    "class dataset(Dataset):\n",
    "    def __init__(self, clincal_path, cna_path, gene_path, micro_path, label_path):\n",
    "        super(dataset, self).__init__()\n",
    "        self.clincal_data = pd.read_csv(clincal_path, index_col=0)\n",
    "        self.clincal_data = torch.tensor(self.clincal_data.values, dtype=torch.float32)\n",
    "\n",
    "        self.cna_data = pd.read_csv(cna_path, index_col=0)\n",
    "        self.cna_data = torch.tensor(self.cna_data.values, dtype=torch.float32)\n",
    "\n",
    "        self.gene_data = pd.read_csv(gene_path, index_col=0)\n",
    "        self.gene_data = torch.tensor(self.gene_data.values, dtype=torch.float32)\n",
    "\n",
    "        self.micro_data = pd.read_csv(micro_path, index_col=0)\n",
    "        self.micro_data = torch.tensor(self.micro_data.values, dtype=torch.float32)\n",
    "\n",
    "        self.label = pd.read_csv(label_path)\n",
    "\n",
    "        self.x_data = torch.cat((self.clincal_data, self.cna_data, self.gene_data, self.micro_data), dim = 1)\n",
    "        self.y_data = torch.tensor(self.label.values, dtype=torch.float32)\n",
    "\n",
    "\n",
    "    def __getitem__(self, idx):\n",
    "        return self.x_data[idx], self.y_data[idx]\n",
    "\n",
    "    def __len__(self):\n",
    "        return len(self.x_data)\n",
    "\n",
    "tcga_data = dataset(clincal_data_path, cna_data_path, gene_data_path, micro_data_path, label_data_path)\n",
    "in_features = tcga_data.x_data.shape[1]\n",
    "\n",
    "class Sample(nn.Module):\n",
    "    def __init__(self):\n",
    "        super(Sample, self).__init__()\n",
    "    def forward(self, z_mean, z_log_var):\n",
    "        eps = torch.randn(z_mean.shape)\n",
    "        eps = eps.to(device)\n",
    "        std = torch.exp(z_log_var / 2)\n",
    "        out = z_mean + std*eps\n",
    "        return out\n",
    "\n",
    "class Encoder(nn.Module):\n",
    "    def __init__(self):\n",
    "        super(Encoder, self).__init__()\n",
    "        self.model = nn.Sequential(\n",
    "            nn.Linear(in_features, 256),\n",
    "            nn.Dropout(p=0.15, inplace=False),\n",
    "            nn.ReLU(),\n",
    "            nn.Linear(256, 64),\n",
    "            nn.Dropout(p=0.15, inplace=False),\n",
    "            nn.ReLU(),\n",
    "            nn.Linear(64, 32),\n",
    "            nn.Dropout(p=0.15, inplace=False),\n",
    "            nn.ReLU()\n",
    "        )\n",
    "        self.z_mean = nn.Linear(32, 6)\n",
    "        self.z_log_var = nn.Linear(32, 6)\n",
    "        self.sample = Sample()\n",
    "\n",
    "    def forward(self, x):\n",
    "        out = self.model(x)\n",
    "        z_mean = self.z_mean(out)\n",
    "        z_log_var = self.z_log_var(out)\n",
    "        out = self.sample(z_mean, z_log_var)\n",
    "        return out, z_mean, z_log_var\n",
    "\n",
    "class Decoder(nn.Module):\n",
    "    def __init__(self):\n",
    "        super(Decoder, self).__init__()\n",
    "        self.model = nn.Sequential(\n",
    "            nn.Linear(6, 32),\n",
    "            nn.Dropout(p=0.15, inplace=False),\n",
    "            nn.ReLU(),\n",
    "            nn.Linear(32, 64),\n",
    "            nn.Dropout(p=0.15, inplace=False),\n",
    "            nn.ReLU(),\n",
    "            nn.Linear(64, 256),\n",
    "            nn.Dropout(p=0.15, inplace=False),\n",
    "            nn.ReLU(),\n",
    "            nn.Linear(256, 50),\n",
    "            nn.Dropout(p=0.15, inplace=False),\n",
    "            nn.ReLU()\n",
    "        )\n",
    "\n",
    "    def forward(self, z):\n",
    "        out = self.model(z)\n",
    "        return out\n",
    "\n",
    "class Classfier(nn.Module):\n",
    "    def __init__(self):\n",
    "        super(Classfier, self).__init__()\n",
    "        self.model = nn.Sequential(\n",
    "            nn.Linear(6, 200, bias = True), #input layer\n",
    "            nn.BatchNorm1d(200, eps = 1e-3),\n",
    "            nn.ReLU(),\n",
    "            nn.Dropout(p=0.78, inplace=False),\n",
    "            nn.Linear(200, 400, bias = True), # 1 hidden layer\n",
    "            nn.BatchNorm1d(400, eps = 1e-3),\n",
    "            nn.ReLU(),\n",
    "            nn.Dropout(p=0.78, inplace=False),\n",
    "            nn.Linear(400, 100, bias = True), # 2 hidden layer\n",
    "            nn.BatchNorm1d(100, eps = 1e-3),\n",
    "            nn.ReLU(),\n",
    "            nn.Dropout(p=0.78, inplace=False),\n",
    "            nn.Linear(100, 2, bias = True), # 2 hidden layer\n",
    "            nn.Softmax(dim = 1)    #outpust layer\n",
    "        )\n",
    "        # self.model = nn.Sequential(\n",
    "        #     nn.Linear(6, 1000, bias = True), #input layer\n",
    "        #     nn.BatchNorm1d(1000, eps = 1e-03),\n",
    "        #     nn.Tanh(),\n",
    "        #     nn.Dropout(p=0.53, inplace=False),\n",
    "        #     nn.Linear(1000, 500, bias = True), # 1 hidden layer\n",
    "        #     nn.BatchNorm1d(500, eps = 1e-03),\n",
    "        #     nn.Tanh(),\n",
    "        #     nn.Dropout(p=0.53, inplace=False),\n",
    "        #     nn.Linear(500, 500, bias = True), # 2 hidden layer\n",
    "        #     nn.BatchNorm1d(500, eps = 1e-03),\n",
    "        #     nn.Tanh(),\n",
    "        #     nn.Dropout(p=0.53, inplace=False),\n",
    "        #     nn.Linear(500, 100, bias = True), # 3 hidden layer\n",
    "        #     nn.BatchNorm1d(100, eps = 1e-03),\n",
    "        #     nn.Tanh(),\n",
    "        #     nn.Dropout(p=0.53, inplace=False),\n",
    "        #     nn.Linear(100, 2, bias = True), # 4 hidden layer\n",
    "        #     nn.Softmax(dim = 1)    #outpust layer\n",
    "        # )\n",
    "    def forward(self, x):\n",
    "        x = self.model(x)\n",
    "        return x\n",
    "\n",
    "class VAE_C(nn.Module):\n",
    "    def __init__(self):\n",
    "        super(VAE_C, self).__init__()\n",
    "        self.encoder = Encoder()\n",
    "        self.decoder = Decoder()\n",
    "        self.classfier = Classfier()\n",
    "    def forward(self, x):\n",
    "        x, mean, var = self.encoder(x)\n",
    "        # x = self.decoder(x)\n",
    "        x = self.classfier(x)\n",
    "        return x\n",
    "\n",
    "# train_set, test_set = random_split(data, [749, 321])\n",
    "# train_set, valid_set = random_split(train_set, [428, 321])\n",
    "# train_dataloader = DataLoader(train_set, batch_size=len(train_set))\n",
    "# valid_dataloader = DataLoader(valid_set, batch_size=len(valid_set))\n",
    "# test_dataloader = DataLoader(test_set, batch_size=len(test_set))\n",
    "\n",
    "model = VAE_C()\n",
    "\n",
    "model.to(device)\n",
    "# optimizer = torch.optim.Adamax(model.parameters(), lr=learning_rate)\n",
    "criterion = nn.CrossEntropyLoss()\n",
    "criterion.to(device)\n",
    "num_epoch = 100\n",
    "max_accuracy = 0\n",
    "total_vae_c_y_pred = 0\n",
    "total_vae_c_y_t = 0\n",
    "kfold = KFold(n_splits = 5)\n",
    "k_num = 1\n",
    "for train_idx, valid_idx in kfold.split(tcga_data):\n",
    "    print(\"##########第{}折##########\".format(k_num))\n",
    "    k_num = k_num + 1\n",
    "    train_set = Subset(tcga_data, train_idx)\n",
    "    test_set = Subset(tcga_data, valid_idx)\n",
    "    train_set, valid_set = train_test_split(train_set, test_size=0.2, random_state=3407)\n",
    "    train_dataloader = DataLoader(train_set, batch_size=len(train_set))\n",
    "    valid_dataloader = DataLoader(valid_set, batch_size=len(valid_set))\n",
    "    test_dataloader = DataLoader(test_set, batch_size=len(test_set))\n",
    "    for epoch in tqdm(range(num_epoch)):\n",
    "        model.train()\n",
    "        for data in train_dataloader:\n",
    "            x_data, y_t = data\n",
    "            x_data = x_data.to(device)\n",
    "            y_t = y_t.to(device)\n",
    "            y_t = y_t.squeeze(dim = 1)\n",
    "            y_pred = model(x_data)\n",
    "            loss = criterion(y_pred, y_t.long())\n",
    "            optimizer.zero_grad()\n",
    "            loss.backward()\n",
    "            optimizer.step()\n",
    "\n",
    "        model.eval()\n",
    "        total_test_loss = 0\n",
    "        total_accuracy = 0\n",
    "        with torch.no_grad():\n",
    "            for data in valid_dataloader:\n",
    "                x_data , y_t = data\n",
    "                x_data = x_data.to(device)\n",
    "                y_t = y_t.to(device)\n",
    "                y_pred = model(x_data)\n",
    "                y_t = y_t.squeeze(dim = 1)\n",
    "                loss = criterion(y_pred, y_t.long())\n",
    "                # wandb.log({'valid loss':loss})\n",
    "                total_test_loss = total_test_loss + loss.item()\n",
    "                accuracy = (y_pred.argmax(1) == y_t).sum()\n",
    "                total_accuracy = total_accuracy + accuracy\n",
    "        # print(\"Validation set's Loss：{}\".format(total_test_loss/num_epoch))\n",
    "        if((total_accuracy/len(valid_set)) > max_accuracy):\n",
    "            max_accuracy = total_accuracy/len(valid_set)\n",
    "            torch.save(model, \"/data/minwenwen/lixiaoyu/TCGA/Model/VAE_C_Best.pth\")\n",
    "\n",
    "    model = torch.load('/data/minwenwen/lixiaoyu/TCGA/Model/VAE_A_Best.pth')\n",
    "    model.eval()\n",
    "    with torch.no_grad():\n",
    "        for data in test_dataloader:\n",
    "            x_data , vae_c_y_t = data\n",
    "            x_data = x_data.to(device)\n",
    "            vae_c_y_t = vae_c_y_t.to(device)\n",
    "            vae_c_y_pred = model(x_data)\n",
    "            vae_c_y_t = vae_c_y_t.squeeze(dim = 1)\n",
    "\n",
    "            vae_c_y_t = vae_c_y_t.cpu().numpy()\n",
    "            vae_c_y_pred = vae_c_y_pred.cpu().numpy()\n",
    "            vae_c_y_pred = np.amin(vae_c_y_pred, axis=1)\n",
    "\n",
    "            total_vae_c_y_pred = np.r_[vae_c_y_pred, total_vae_c_y_pred]\n",
    "            total_vae_c_y_t = np.r_[vae_c_y_t, total_vae_c_y_t]"
   ],
   "metadata": {
    "collapsed": false
   }
  },
  {
   "cell_type": "code",
   "execution_count": 7,
   "outputs": [
    {
     "name": "stdout",
     "output_type": "stream",
     "text": [
      "##########第1折##########\n"
     ]
    },
    {
     "name": "stderr",
     "output_type": "stream",
     "text": [
      "100%|██████████████████████████████████████████████████████████████████████████████████████████████████████████████████████████████████████████████████████████████████████████████████████████████████████████████████████| 100/100 [00:01<00:00, 52.16it/s]\n"
     ]
    },
    {
     "name": "stdout",
     "output_type": "stream",
     "text": [
      "##########第2折##########\n"
     ]
    },
    {
     "name": "stderr",
     "output_type": "stream",
     "text": [
      "100%|██████████████████████████████████████████████████████████████████████████████████████████████████████████████████████████████████████████████████████████████████████████████████████████████████████████████████████| 100/100 [00:01<00:00, 54.43it/s]\n"
     ]
    },
    {
     "name": "stdout",
     "output_type": "stream",
     "text": [
      "##########第3折##########\n"
     ]
    },
    {
     "name": "stderr",
     "output_type": "stream",
     "text": [
      "100%|██████████████████████████████████████████████████████████████████████████████████████████████████████████████████████████████████████████████████████████████████████████████████████████████████████████████████████| 100/100 [00:01<00:00, 53.73it/s]\n"
     ]
    },
    {
     "name": "stdout",
     "output_type": "stream",
     "text": [
      "##########第4折##########\n"
     ]
    },
    {
     "name": "stderr",
     "output_type": "stream",
     "text": [
      "100%|██████████████████████████████████████████████████████████████████████████████████████████████████████████████████████████████████████████████████████████████████████████████████████████████████████████████████████| 100/100 [00:01<00:00, 54.19it/s]\n"
     ]
    },
    {
     "name": "stdout",
     "output_type": "stream",
     "text": [
      "##########第5折##########\n"
     ]
    },
    {
     "name": "stderr",
     "output_type": "stream",
     "text": [
      "100%|██████████████████████████████████████████████████████████████████████████████████████████████████████████████████████████████████████████████████████████████████████████████████████████████████████████████████████| 100/100 [00:01<00:00, 57.59it/s]\n"
     ]
    },
    {
     "name": "stdout",
     "output_type": "stream",
     "text": [
      "##########第6折##########\n"
     ]
    },
    {
     "name": "stderr",
     "output_type": "stream",
     "text": [
      "100%|██████████████████████████████████████████████████████████████████████████████████████████████████████████████████████████████████████████████████████████████████████████████████████████████████████████████████████| 100/100 [00:01<00:00, 55.74it/s]\n"
     ]
    },
    {
     "name": "stdout",
     "output_type": "stream",
     "text": [
      "##########第7折##########\n"
     ]
    },
    {
     "name": "stderr",
     "output_type": "stream",
     "text": [
      "100%|██████████████████████████████████████████████████████████████████████████████████████████████████████████████████████████████████████████████████████████████████████████████████████████████████████████████████████| 100/100 [00:01<00:00, 54.60it/s]\n"
     ]
    },
    {
     "name": "stdout",
     "output_type": "stream",
     "text": [
      "##########第8折##########\n"
     ]
    },
    {
     "name": "stderr",
     "output_type": "stream",
     "text": [
      "100%|██████████████████████████████████████████████████████████████████████████████████████████████████████████████████████████████████████████████████████████████████████████████████████████████████████████████████████| 100/100 [00:01<00:00, 57.73it/s]\n"
     ]
    },
    {
     "name": "stdout",
     "output_type": "stream",
     "text": [
      "##########第9折##########\n"
     ]
    },
    {
     "name": "stderr",
     "output_type": "stream",
     "text": [
      "100%|██████████████████████████████████████████████████████████████████████████████████████████████████████████████████████████████████████████████████████████████████████████████████████████████████████████████████████| 100/100 [00:01<00:00, 55.22it/s]\n"
     ]
    },
    {
     "name": "stdout",
     "output_type": "stream",
     "text": [
      "##########第10折##########\n"
     ]
    },
    {
     "name": "stderr",
     "output_type": "stream",
     "text": [
      "100%|██████████████████████████████████████████████████████████████████████████████████████████████████████████████████████████████████████████████████████████████████████████████████████████████████████████████████████| 100/100 [00:01<00:00, 56.00it/s]\n"
     ]
    },
    {
     "name": "stdout",
     "output_type": "stream",
     "text": [
      "##########第1折##########\n"
     ]
    },
    {
     "name": "stderr",
     "output_type": "stream",
     "text": [
      "100%|██████████████████████████████████████████████████████████████████████████████████████████████████████████████████████████████████████████████████████████████████████████████████████████████████████████████████████| 100/100 [00:01<00:00, 53.60it/s]\n"
     ]
    },
    {
     "name": "stdout",
     "output_type": "stream",
     "text": [
      "##########第2折##########\n"
     ]
    },
    {
     "name": "stderr",
     "output_type": "stream",
     "text": [
      "100%|██████████████████████████████████████████████████████████████████████████████████████████████████████████████████████████████████████████████████████████████████████████████████████████████████████████████████████| 100/100 [00:01<00:00, 56.23it/s]\n"
     ]
    },
    {
     "name": "stdout",
     "output_type": "stream",
     "text": [
      "##########第3折##########\n"
     ]
    },
    {
     "name": "stderr",
     "output_type": "stream",
     "text": [
      "100%|██████████████████████████████████████████████████████████████████████████████████████████████████████████████████████████████████████████████████████████████████████████████████████████████████████████████████████| 100/100 [00:01<00:00, 61.29it/s]\n"
     ]
    },
    {
     "name": "stdout",
     "output_type": "stream",
     "text": [
      "##########第4折##########\n"
     ]
    },
    {
     "name": "stderr",
     "output_type": "stream",
     "text": [
      "100%|██████████████████████████████████████████████████████████████████████████████████████████████████████████████████████████████████████████████████████████████████████████████████████████████████████████████████████| 100/100 [00:01<00:00, 60.52it/s]\n"
     ]
    },
    {
     "name": "stdout",
     "output_type": "stream",
     "text": [
      "##########第5折##########\n"
     ]
    },
    {
     "name": "stderr",
     "output_type": "stream",
     "text": [
      "100%|██████████████████████████████████████████████████████████████████████████████████████████████████████████████████████████████████████████████████████████████████████████████████████████████████████████████████████| 100/100 [00:01<00:00, 61.07it/s]\n"
     ]
    },
    {
     "name": "stdout",
     "output_type": "stream",
     "text": [
      "##########第6折##########\n"
     ]
    },
    {
     "name": "stderr",
     "output_type": "stream",
     "text": [
      "100%|██████████████████████████████████████████████████████████████████████████████████████████████████████████████████████████████████████████████████████████████████████████████████████████████████████████████████████| 100/100 [00:01<00:00, 59.56it/s]\n"
     ]
    },
    {
     "name": "stdout",
     "output_type": "stream",
     "text": [
      "##########第7折##########\n"
     ]
    },
    {
     "name": "stderr",
     "output_type": "stream",
     "text": [
      "100%|██████████████████████████████████████████████████████████████████████████████████████████████████████████████████████████████████████████████████████████████████████████████████████████████████████████████████████| 100/100 [00:01<00:00, 60.37it/s]\n"
     ]
    },
    {
     "name": "stdout",
     "output_type": "stream",
     "text": [
      "##########第8折##########\n"
     ]
    },
    {
     "name": "stderr",
     "output_type": "stream",
     "text": [
      "100%|██████████████████████████████████████████████████████████████████████████████████████████████████████████████████████████████████████████████████████████████████████████████████████████████████████████████████████| 100/100 [00:01<00:00, 56.74it/s]\n"
     ]
    },
    {
     "name": "stdout",
     "output_type": "stream",
     "text": [
      "##########第9折##########\n"
     ]
    },
    {
     "name": "stderr",
     "output_type": "stream",
     "text": [
      "100%|██████████████████████████████████████████████████████████████████████████████████████████████████████████████████████████████████████████████████████████████████████████████████████████████████████████████████████| 100/100 [00:01<00:00, 54.74it/s]\n"
     ]
    },
    {
     "name": "stdout",
     "output_type": "stream",
     "text": [
      "##########第10折##########\n"
     ]
    },
    {
     "name": "stderr",
     "output_type": "stream",
     "text": [
      "100%|██████████████████████████████████████████████████████████████████████████████████████████████████████████████████████████████████████████████████████████████████████████████████████████████████████████████████████| 100/100 [00:01<00:00, 60.70it/s]\n"
     ]
    },
    {
     "name": "stdout",
     "output_type": "stream",
     "text": [
      "##########第1折##########\n"
     ]
    },
    {
     "name": "stderr",
     "output_type": "stream",
     "text": [
      "100%|██████████████████████████████████████████████████████████████████████████████████████████████████████████████████████████████████████████████████████████████████████████████████████████████████████████████████████| 100/100 [00:01<00:00, 55.55it/s]\n"
     ]
    },
    {
     "name": "stdout",
     "output_type": "stream",
     "text": [
      "##########第2折##########\n"
     ]
    },
    {
     "name": "stderr",
     "output_type": "stream",
     "text": [
      "100%|██████████████████████████████████████████████████████████████████████████████████████████████████████████████████████████████████████████████████████████████████████████████████████████████████████████████████████| 100/100 [00:01<00:00, 59.67it/s]\n"
     ]
    },
    {
     "name": "stdout",
     "output_type": "stream",
     "text": [
      "##########第3折##########\n"
     ]
    },
    {
     "name": "stderr",
     "output_type": "stream",
     "text": [
      "100%|██████████████████████████████████████████████████████████████████████████████████████████████████████████████████████████████████████████████████████████████████████████████████████████████████████████████████████| 100/100 [00:01<00:00, 59.46it/s]\n"
     ]
    },
    {
     "name": "stdout",
     "output_type": "stream",
     "text": [
      "##########第4折##########\n"
     ]
    },
    {
     "name": "stderr",
     "output_type": "stream",
     "text": [
      "100%|██████████████████████████████████████████████████████████████████████████████████████████████████████████████████████████████████████████████████████████████████████████████████████████████████████████████████████| 100/100 [00:01<00:00, 59.62it/s]\n"
     ]
    },
    {
     "name": "stdout",
     "output_type": "stream",
     "text": [
      "##########第5折##########\n"
     ]
    },
    {
     "name": "stderr",
     "output_type": "stream",
     "text": [
      "100%|██████████████████████████████████████████████████████████████████████████████████████████████████████████████████████████████████████████████████████████████████████████████████████████████████████████████████████| 100/100 [00:01<00:00, 60.92it/s]\n"
     ]
    },
    {
     "name": "stdout",
     "output_type": "stream",
     "text": [
      "##########第6折##########\n"
     ]
    },
    {
     "name": "stderr",
     "output_type": "stream",
     "text": [
      "100%|██████████████████████████████████████████████████████████████████████████████████████████████████████████████████████████████████████████████████████████████████████████████████████████████████████████████████████| 100/100 [00:01<00:00, 59.24it/s]\n"
     ]
    },
    {
     "name": "stdout",
     "output_type": "stream",
     "text": [
      "##########第7折##########\n"
     ]
    },
    {
     "name": "stderr",
     "output_type": "stream",
     "text": [
      "100%|██████████████████████████████████████████████████████████████████████████████████████████████████████████████████████████████████████████████████████████████████████████████████████████████████████████████████████| 100/100 [00:01<00:00, 54.95it/s]\n"
     ]
    },
    {
     "name": "stdout",
     "output_type": "stream",
     "text": [
      "##########第8折##########\n"
     ]
    },
    {
     "name": "stderr",
     "output_type": "stream",
     "text": [
      "100%|██████████████████████████████████████████████████████████████████████████████████████████████████████████████████████████████████████████████████████████████████████████████████████████████████████████████████████| 100/100 [00:01<00:00, 60.77it/s]\n"
     ]
    },
    {
     "name": "stdout",
     "output_type": "stream",
     "text": [
      "##########第9折##########\n"
     ]
    },
    {
     "name": "stderr",
     "output_type": "stream",
     "text": [
      "100%|██████████████████████████████████████████████████████████████████████████████████████████████████████████████████████████████████████████████████████████████████████████████████████████████████████████████████████| 100/100 [00:01<00:00, 59.81it/s]\n"
     ]
    },
    {
     "name": "stdout",
     "output_type": "stream",
     "text": [
      "##########第10折##########\n"
     ]
    },
    {
     "name": "stderr",
     "output_type": "stream",
     "text": [
      "100%|██████████████████████████████████████████████████████████████████████████████████████████████████████████████████████████████████████████████████████████████████████████████████████████████████████████████████████| 100/100 [00:01<00:00, 54.85it/s]"
     ]
    },
    {
     "name": "stdout",
     "output_type": "stream",
     "text": [
      "CPU times: user 53.3 s, sys: 543 ms, total: 53.9 s\n",
      "Wall time: 53.6 s\n"
     ]
    },
    {
     "name": "stderr",
     "output_type": "stream",
     "text": [
      "\n"
     ]
    }
   ],
   "source": [
    "%%time\n",
    "#Clinical Network\n",
    "#DataSet\n",
    "class TcbbDataset(Dataset):\n",
    "    def __init__(self, data_path, label_path):\n",
    "        super(TcbbDataset, self).__init__()\n",
    "        self.data = pd.read_csv(data_path)\n",
    "        self.label = pd.read_csv(label_path)\n",
    "        self.label = self.label.astype(float)\n",
    "        self.x_data = torch.tensor(self.data.values, dtype=torch.float32)\n",
    "        self.y_data = torch.tensor(self.label.values, dtype=torch.float32)\n",
    "\n",
    "    def __getitem__(self, idx):\n",
    "        return self.x_data[idx], self.y_data[idx]\n",
    "\n",
    "    def __len__(self):\n",
    "        return len(self.x_data)\n",
    "\n",
    "clincal_dataset = TcbbDataset(clincal_data_path, label_data_path)\n",
    "in_features = clincal_dataset.x_data.shape[1]\n",
    "\n",
    "#Net Structure\n",
    "class Net(nn.Module):\n",
    "    def __init__(self):\n",
    "        super(Net, self).__init__()\n",
    "        self.model = nn.Sequential(\n",
    "            nn.Linear(in_features, 1000, bias = True), #input layer\n",
    "            nn.BatchNorm1d(1000, eps = 1e-03),\n",
    "            nn.Tanh(),\n",
    "            nn.Dropout(p=0.53, inplace=False),\n",
    "            nn.Linear(1000, 500, bias = True), # 1 hidden layer\n",
    "            nn.BatchNorm1d(500, eps = 1e-03),\n",
    "            nn.Tanh(),\n",
    "            nn.Dropout(p=0.53, inplace=False),\n",
    "            nn.Linear(500, 500, bias = True), # 2 hidden layer\n",
    "            nn.BatchNorm1d(500, eps = 1e-03),\n",
    "            nn.Tanh(),\n",
    "            nn.Dropout(p=0.53, inplace=False),\n",
    "            nn.Linear(500, 100, bias = True), # 3 hidden layer\n",
    "            nn.BatchNorm1d(100, eps = 1e-03),\n",
    "            nn.Tanh(),\n",
    "            nn.Dropout(p=0.53, inplace=False),\n",
    "            nn.Linear(100, 2, bias = True), # 4 hidden layer\n",
    "            nn.Softmax(dim = 1)    #outpust layer\n",
    "        )\n",
    "    def forward(self, x):\n",
    "        x = self.model(x)\n",
    "        return x\n",
    "\n",
    "#Divide DataSet\n",
    "kfold = KFold(n_splits = 10)\n",
    "total_clincal_acc = 0\n",
    "total_clincal_pre = 0\n",
    "total_clincal_sen = 0\n",
    "total_clincal_mcc = 0\n",
    "total_clincal_fpr = 0\n",
    "total_clincal_tpr = 0\n",
    "total_clincal_y_pred = 0\n",
    "total_clincal_y_t = 0\n",
    "num_epoch = 100\n",
    "max_accuracy = 0\n",
    "Clincal_MDNNMD = Net()\n",
    "Clincal_MDNNMD.to(device)\n",
    "learning_rate = 1e-3\n",
    "optimizer = torch.optim.Adam(Clincal_MDNNMD.parameters(), lr=learning_rate)\n",
    "criterion = nn.CrossEntropyLoss()\n",
    "criterion.to(device)\n",
    "k_num = 1\n",
    "\n",
    "for train_idx, valid_idx in kfold.split(clincal_dataset):\n",
    "    print(\"##########第{}折##########\".format(k_num))\n",
    "    k_num = k_num + 1\n",
    "    clincal_train_set = Subset(clincal_dataset, train_idx)\n",
    "    clincal_test_set = Subset(clincal_dataset, valid_idx)\n",
    "    clincal_train_set, clincal_valid_set = train_test_split(clincal_train_set, test_size=0.2)\n",
    "    clincal_train_dataloader = DataLoader(clincal_train_set, batch_size=len(clincal_train_set))\n",
    "    clincal_valid_dataloader = DataLoader(clincal_valid_set, batch_size=len(clincal_test_set))\n",
    "    clincal_test_dataloader = DataLoader(clincal_test_set, batch_size = len(clincal_test_set))\n",
    "    for epoch in tqdm(range(num_epoch)):\n",
    "        #Train\n",
    "        Clincal_MDNNMD.train()\n",
    "        for data in clincal_train_dataloader:\n",
    "            x_data, y_t = data\n",
    "            x_data = x_data.to(device)\n",
    "            y_t = y_t.to(device)\n",
    "            y_t = y_t.squeeze(dim = 1)\n",
    "            y_pred = Clincal_MDNNMD(x_data)\n",
    "            loss = criterion(y_pred, y_t.long())\n",
    "\n",
    "            optimizer.zero_grad()\n",
    "            loss.backward()\n",
    "            optimizer.step()\n",
    "\n",
    "        #Eval\n",
    "        Clincal_MDNNMD.eval()\n",
    "        total_test_loss = 0\n",
    "        total_accuracy = 0\n",
    "        with torch.no_grad():\n",
    "            for data in clincal_valid_dataloader:\n",
    "                x_data , y_t = data\n",
    "                x_data = x_data.to(device)\n",
    "                y_t = y_t.to(device)\n",
    "                y_pred = Clincal_MDNNMD(x_data)\n",
    "                # print(y_pred\n",
    "                y_t = y_t.squeeze(dim = 1)\n",
    "                loss = criterion(y_pred, y_t.long())\n",
    "                total_test_loss = total_test_loss + loss.item()\n",
    "                accuracy = (y_pred.argmax(1) == y_t).sum()\n",
    "                total_accuracy = total_accuracy + accuracy\n",
    "        # print(\"Validation set's Loss：{}\".format(total_test_loss/num_epoch))\n",
    "        if((total_accuracy/len(clincal_valid_set)) > max_accuracy):\n",
    "            max_accuracy = total_accuracy/len(clincal_valid_set)\n",
    "            torch.save(Clincal_MDNNMD, \"/data/minwenwen/lixiaoyu/TCGA/Model/MDNNMD_Clincal_Best.pth\")\n",
    "            # print(\"--------第{}轮训练--------\".format(epoch + 1))\n",
    "            # print(\"Save model in the No.{} fold \".format( k_num - 1))\n",
    "            # print(\"Validation set's Accuracy：{}\".format((total_accuracy/len(clincal_valid_set))))\n",
    "\n",
    "\n",
    "\n",
    "\n",
    "    #Clincal TEST\n",
    "    clincal_model = torch.load('/data/minwenwen/lixiaoyu/TCGA/Model/MDNNMD_Clincal_Best.pth')\n",
    "    clincal_model.eval()\n",
    "    with torch.no_grad():\n",
    "        for data in clincal_test_dataloader:\n",
    "            x_data , y_t = data\n",
    "            x_data = x_data.to(device)\n",
    "            y_t = y_t.to(device)\n",
    "            y_pred = clincal_model(x_data)\n",
    "            y_t = y_t.squeeze(dim = 1)\n",
    "\n",
    "            y_t = y_t.cpu().numpy()\n",
    "            y_pred = y_pred.cpu().numpy()\n",
    "            clincal_y_pred = np.amin(y_pred, axis=1)\n",
    "            clincal_y_t = y_t\n",
    "\n",
    "            total_clincal_y_pred = np.r_[clincal_y_pred, total_clincal_y_pred]\n",
    "            total_clincal_y_t = np.r_[clincal_y_t, total_clincal_y_t]\n",
    "            clincal_acc = accuracy_score(y_t, y_pred.argmax(1))\n",
    "            total_clincal_acc = total_clincal_acc + clincal_acc\n",
    "            clincal_pre = precision_score(y_t, y_pred.argmax(1))\n",
    "            total_clincal_pre = total_clincal_pre + clincal_pre\n",
    "            clincal_sen = recall_score(y_t, y_pred.argmax(1))\n",
    "            total_clincal_sen = total_clincal_sen + clincal_sen\n",
    "            clincal_mcc = matthews_corrcoef(y_t, y_pred.argmax(1))\n",
    "            total_clincal_mcc = total_clincal_mcc + clincal_mcc\n",
    "\n",
    "total_clincal_acc = total_clincal_acc / k_num\n",
    "total_clincal_pre = total_clincal_pre / k_num\n",
    "total_clincal_sen = total_clincal_sen / k_num\n",
    "total_clincal_mcc = total_clincal_mcc / k_num\n",
    "# clincal_fpr, clincal_tpr, clincal_thresholds = roc_curve(clincal_y_t, clincal_y_pred)\n",
    "#\n",
    "# print(\"-------------------------------------------------------\")\n",
    "# print(\"-------------------------------------------------------\")\n",
    "# print(\"Clincal Dataset's Accuracy is {:.4f}\".format(total_clincal_acc ))\n",
    "# print(\"Clincal Dataset's Precision is {:.4f}\".format(total_clincal_pre ))\n",
    "# print(\"Clincal Dataset's Sensitivity is {:.4f}\".format(total_clincal_sen ))\n",
    "# print(\"Clincal Dataset's Mcc is {:.4f}\".format(total_clincal_mcc ))\n",
    "\n",
    "\n",
    "#Gene_Exp Network\n",
    "#DataSet\n",
    "gene_dataset = TcbbDataset(gene_data_path, label_data_path)\n",
    "in_features = gene_dataset.x_data.shape[1]\n",
    "\n",
    "#Divide DataSet\n",
    "total_gene_acc = 0\n",
    "total_gene_pre = 0\n",
    "total_gene_sen = 0\n",
    "total_gene_mcc = 0\n",
    "total_gene_y_pred = 0\n",
    "total_gene_y_t =0\n",
    "Gene_MDNNMD = Net()\n",
    "Gene_MDNNMD.to(device)\n",
    "learning_rate = 1e-3\n",
    "\n",
    "optimizer = torch.optim.Adam(Gene_MDNNMD.parameters(),lr=learning_rate) # 优化器使用Adam，传入网络参数和学习率\n",
    "criterion = nn.CrossEntropyLoss()# 损失函数使用交叉熵损失函数\n",
    "criterion.to(device)\n",
    "# num_epoch = 100\n",
    "max_accuracy = 0\n",
    "k_num = 1\n",
    "for train_idx, valid_idx in kfold.split(gene_dataset):\n",
    "    print(\"##########第{}折##########\".format(k_num))\n",
    "    k_num = k_num + 1\n",
    "    gene_train_set = Subset(gene_dataset, train_idx)\n",
    "    gene_test_set = Subset(gene_dataset, valid_idx)\n",
    "    gene_train_set, gene_valid_set = train_test_split(gene_train_set, test_size=0.2)\n",
    "    gene_train_dataloader = DataLoader(gene_train_set, batch_size=len(gene_train_set))\n",
    "    gene_valid_dataloader = DataLoader(gene_valid_set, batch_size=len(gene_valid_set))\n",
    "    gene_test_dataloader = DataLoader(gene_test_set, batch_size = len(gene_test_set))\n",
    "    for epoch in tqdm(range(num_epoch)):\n",
    "        #Train\n",
    "        Gene_MDNNMD.train()\n",
    "        for data in gene_train_dataloader:\n",
    "            x_data, y_t = data\n",
    "            x_data = x_data.to(device)\n",
    "            y_t = y_t.to(device)\n",
    "            y_t = y_t.squeeze(dim = 1)\n",
    "            y_pred = Gene_MDNNMD(x_data)\n",
    "            loss = criterion(y_pred, y_t.long())\n",
    "\n",
    "            optimizer.zero_grad()\n",
    "            loss.backward()\n",
    "            optimizer.step()\n",
    "\n",
    "            # total_train_step += 1\n",
    "            # if(total_train_step % 100 == 0):\n",
    "            #     print(\"训练次数：{}, Loss:{}\".format(total_train_step, loss.item()))\n",
    "\n",
    "        Gene_MDNNMD.eval()\n",
    "        total_test_loss = 0\n",
    "        total_accuracy = 0\n",
    "        with torch.no_grad():\n",
    "            for data in gene_valid_dataloader:\n",
    "                x_data , y_t = data\n",
    "                x_data = x_data.to(device)\n",
    "                y_t = y_t.to(device)\n",
    "                y_pred = Gene_MDNNMD(x_data)\n",
    "                # print(y_pred)\n",
    "                y_t = y_t.squeeze(dim = 1)\n",
    "                loss = criterion(y_pred, y_t.long())\n",
    "                total_test_loss = total_test_loss + loss.item()\n",
    "                accuracy = (y_pred.argmax(1) == y_t).sum()\n",
    "                total_accuracy = total_accuracy + accuracy\n",
    "        if((total_accuracy/len(gene_valid_set)) > max_accuracy):\n",
    "            max_accuracy = total_accuracy/len(gene_valid_set)\n",
    "            torch.save(Gene_MDNNMD, \"/data/minwenwen/lixiaoyu/TCGA/Model/MDNNMD_Gene_Best.pth\")\n",
    "            # print(\"--------第{}轮训练--------\".format(epoch + 1))\n",
    "            # print(\"Save model in the No.{} fold \".format( k_num - 1))\n",
    "            # print(\"Validation set's Accuracy：{}\".format((total_accuracy/len(gene_valid_set))))\n",
    "\n",
    "\n",
    "    gene_model = torch.load('/data/minwenwen/lixiaoyu/TCGA/Model/MDNNMD_Gene_Best.pth')\n",
    "    gene_model.eval()\n",
    "    with torch.no_grad():\n",
    "        for data in gene_test_dataloader:\n",
    "            x_data , y_t = data\n",
    "            x_data = x_data.to(device)\n",
    "            y_t = y_t.to(device)\n",
    "            y_pred = gene_model(x_data)\n",
    "            y_t = y_t.squeeze(dim = 1)\n",
    "            acc_tmp = (y_pred.argmax(1) == y_t).sum()\n",
    "            y_t = y_t.cpu().numpy()\n",
    "            y_pred = y_pred.cpu().numpy()\n",
    "            gene_y_pred = np.amin(y_pred, axis=1)\n",
    "            gene_y_t = y_t\n",
    "\n",
    "            total_gene_y_pred = np.r_[total_gene_y_pred, gene_y_pred]\n",
    "            total_gene_y_t = np.r_[total_gene_y_t, gene_y_t]\n",
    "\n",
    "            gene_acc = accuracy_score(y_t, y_pred.argmax(1))\n",
    "            total_gene_acc = total_gene_acc + gene_acc\n",
    "            gene_pre = precision_score(y_t, y_pred.argmax(1))\n",
    "            total_gene_pre = total_gene_pre + gene_pre\n",
    "            gene_sen = recall_score(y_t, y_pred.argmax(1))\n",
    "            total_gene_sen = total_gene_sen + gene_sen\n",
    "            gene_mcc = matthews_corrcoef(y_t, y_pred.argmax(1))\n",
    "            total_gene_mcc = total_gene_mcc + gene_mcc\n",
    "\n",
    "total_gene_acc = total_gene_acc / k_num\n",
    "total_gene_pre = total_gene_pre / k_num\n",
    "total_gene_sen = total_gene_sen / k_num\n",
    "total_gene_mcc = total_gene_mcc / k_num\n",
    "\n",
    "# print(\"-------------------------------------------------------\")\n",
    "# print(\"-------------------------------------------------------\")\n",
    "# print(\"Gene_Exp Dataset's Accuracy is {:.4f}\".format(total_gene_acc ))\n",
    "# print(\"Gene_Exp Dataset's Precision is {:.4f}\".format(total_gene_pre ))\n",
    "# print(\"Gene_Exp Dataset's Sensitivity is {:.4f}\".format(total_gene_sen ))\n",
    "# print(\"Gene_Exp Dataset's Mcc is {:.4f}\".format(total_gene_mcc ))\n",
    "\n",
    "\n",
    "\n",
    "#CNA_Exp Network\n",
    "\n",
    "\n",
    "#DataSet\n",
    "cna_dataset = TcbbDataset(cna_data_path, label_data_path)\n",
    "in_features = cna_dataset.x_data.shape[1]\n",
    "\n",
    "#Divide DataSet\n",
    "max_accuracy = 0\n",
    "k_num = 1\n",
    "total_cna_acc = 0\n",
    "total_cna_pre = 0\n",
    "total_cna_sen = 0\n",
    "total_cna_mcc = 0\n",
    "total_cna_y_pred = 0\n",
    "total_cna_y_t = 0\n",
    "CNA_MDNNMD = Net()\n",
    "CNA_MDNNMD.to(device)\n",
    "learning_rate = 1e-3\n",
    "\n",
    "optimizer = torch.optim.Adam(CNA_MDNNMD.parameters(),lr=learning_rate) # 优化器使用Adam，传入网络参数和学习率\n",
    "criterion = nn.CrossEntropyLoss()# 损失函数使用交叉熵损失函数\n",
    "criterion.to(device)\n",
    "# num_epoch = 100\n",
    "max_accuracy = 0\n",
    "for train_idx, valid_idx in kfold.split(cna_dataset):\n",
    "    print(\"##########第{}折##########\".format(k_num))\n",
    "    k_num = k_num + 1\n",
    "    cna_train_set = Subset(cna_dataset, train_idx)\n",
    "    cna_test_set = Subset(cna_dataset, valid_idx)\n",
    "    cna_train_set, cna_valid_set = train_test_split(cna_train_set, test_size=0.2)\n",
    "    cna_train_dataloader = DataLoader(cna_train_set, batch_size=len(cna_train_set))\n",
    "    cna_valid_dataloader = DataLoader(cna_valid_set, batch_size=len(cna_valid_set))\n",
    "    cna_test_dataloader = DataLoader(cna_test_set, batch_size = len(cna_test_set))\n",
    "\n",
    "    for epoch in tqdm(range(num_epoch)):\n",
    "     #Train\n",
    "        CNA_MDNNMD.train()\n",
    "        for data in cna_train_dataloader:\n",
    "            x_data, y_t = data\n",
    "            x_data = x_data.to(device)\n",
    "            y_t = y_t.to(device)\n",
    "            y_t = y_t.squeeze(dim = 1)\n",
    "            y_pred = CNA_MDNNMD(x_data)\n",
    "            loss = criterion(y_pred, y_t.long())\n",
    "\n",
    "            optimizer.zero_grad()\n",
    "            loss.backward()\n",
    "            optimizer.step()\n",
    "\n",
    "    #Eval\n",
    "        CNA_MDNNMD.eval()\n",
    "        total_test_loss = 0\n",
    "        total_accuracy = 0\n",
    "        with torch.no_grad():\n",
    "            for data in cna_valid_dataloader:\n",
    "                x_data , y_t = data\n",
    "                x_data = x_data.to(device)\n",
    "                y_t = y_t.to(device)\n",
    "                y_pred = CNA_MDNNMD(x_data)\n",
    "                # print(y_pred)\n",
    "                y_t = y_t.squeeze(dim = 1)\n",
    "                loss = criterion(y_pred, y_t.long())\n",
    "                total_test_loss = total_test_loss + loss.item()\n",
    "                accuracy = (y_pred.argmax(1) == y_t).sum()\n",
    "                total_accuracy = total_accuracy + accuracy\n",
    "        # print(\"Validation set's Loss：{}\".format(total_test_loss/num_epoch))\n",
    "        if((total_accuracy/len(cna_valid_set)) > max_accuracy):\n",
    "            max_accuracy = total_accuracy/len(cna_valid_set)\n",
    "            torch.save(CNA_MDNNMD, \"/data/minwenwen/lixiaoyu/TCGA/Model/MDNNMD_CNA_Best.pth\")\n",
    "            # print(\"--------第{}轮训练--------\".format(epoch + 1))\n",
    "            # print(\"Save model in the No.{} fold \".format( k_num - 1))\n",
    "            # print(\"Validation set's Accuracy：{}\".format((total_accuracy/len(cna_valid_set))))\n",
    "\n",
    "\n",
    "    cna_model = torch.load('/data/minwenwen/lixiaoyu/TCGA/Model/MDNNMD_CNA_Best.pth')\n",
    "    cna_model.eval()\n",
    "    with torch.no_grad():\n",
    "        for data in cna_test_dataloader:\n",
    "            x_data , y_t = data\n",
    "            x_data = x_data.to(device)\n",
    "            y_t = y_t.to(device)\n",
    "            y_pred = cna_model(x_data)\n",
    "            y_t = y_t.squeeze(dim = 1)\n",
    "            acc_tmp = (y_pred.argmax(1) == y_t).sum()\n",
    "            y_t = y_t.cpu().numpy()\n",
    "            y_pred = y_pred.cpu().numpy()\n",
    "            cna_y_pred = np.amin(y_pred, axis=1)\n",
    "            cna_y_t = y_t\n",
    "\n",
    "            total_cna_y_pred = np.r_[total_cna_y_pred, cna_y_pred]\n",
    "            total_cna_y_t = np.r_[total_cna_y_t, cna_y_t]\n",
    "\n",
    "            cna_acc = accuracy_score(y_t, y_pred.argmax(1))\n",
    "            total_cna_acc = total_cna_acc + cna_acc\n",
    "            cna_pre = precision_score(y_t, y_pred.argmax(1))\n",
    "            total_cna_pre = total_cna_pre + cna_pre\n",
    "            cna_sen = recall_score(y_t, y_pred.argmax(1))\n",
    "            total_cna_sen = total_cna_sen + cna_sen\n",
    "            cna_mcc = matthews_corrcoef(y_t, y_pred.argmax(1))\n",
    "            total_cna_mcc = total_cna_mcc + cna_mcc\n",
    "\n",
    "total_cna_acc = total_cna_acc / k_num\n",
    "total_cna_pre = total_cna_pre / k_num\n",
    "total_cna_sen = total_cna_sen / k_num\n",
    "total_cna_mcc = total_cna_mcc / k_num\n",
    "\n",
    "# print(\"-------------------------------------------------------\")\n",
    "# print(\"-------------------------------------------------------\")\n",
    "# print(\"CNA Dataset's Accuracy is {:.4f}\".format(total_cna_acc ))\n",
    "# print(\"CNA Dataset's Precision is {:.4f}\".format(total_cna_pre ))\n",
    "# print(\"CNA Dataset's Sensitivity is {:.4f}\".format(total_cna_sen ))\n",
    "# print(\"CNA Dataset's Mcc is {:.4f}\".format(total_cna_mcc ))\n",
    "\n",
    "\n",
    "alpha = 0.6\n",
    "beta = 0.1\n",
    "gama = 0.3\n",
    "\n",
    "mdnnmd_acc = alpha * total_gene_acc + beta * total_cna_acc + gama * total_clincal_acc\n",
    "mdnnmd_pre = alpha * total_gene_pre + beta * total_cna_pre + gama * total_clincal_pre\n",
    "mdnnmd_sen = alpha * total_gene_sen + beta * total_cna_sen + gama * total_clincal_sen\n",
    "mdnnmd_mcc = alpha * total_gene_mcc + beta * total_cna_mcc + gama * total_clincal_mcc\n",
    "mdnnmd_y_pred = total_clincal_y_pred * gama + total_gene_y_pred * alpha + gama * total_cna_y_pred\n"
   ],
   "metadata": {
    "collapsed": false
   }
  },
  {
   "cell_type": "code",
   "execution_count": 8,
   "outputs": [],
   "source": [
    "a = pd.read_csv(clincal_data_path,)\n",
    "a.drop(columns=['Overall Survival Status'])\n",
    "b = pd.read_csv(cna_data_path,)\n",
    "c = pd.read_csv(micro_data_path,)\n",
    "d = pd.read_csv(gene_data_path,)\n",
    "Y = pd.read_csv(label_data_path)\n",
    "X = pd.concat([b,c,d,Y], axis =1)\n",
    "\n",
    "\n",
    "svm_pred = 0\n",
    "lr_pred = 0\n",
    "rf_pred = 0\n",
    "svm_y = 0\n",
    "lr_y = 0\n",
    "rf_y = 0\n",
    "for train_idx, valid_idx in kfold.split(X):\n",
    "    x_train = X.iloc[train_idx, :]\n",
    "    x_test = X.iloc[valid_idx, :]\n",
    "    y_train = x_train.iloc[:, -1]\n",
    "    x_train = x_train.iloc[:, :-1]\n",
    "    y_test = x_test.iloc[:, -1]\n",
    "    x_test = x_test.iloc[:, :-1]\n",
    "\n",
    "    clf_proba = SVC(kernel='rbf', C=1, probability=True).fit(x_train, y_train)\n",
    "    svm_pred = np.r_[svm_pred,clf_proba.decision_function(x_test)]\n",
    "    svm_y = np.r_[svm_y, y_test]\n",
    "\n",
    "    clf_lr = LogisticRegression().fit(x_train, y_train)\n",
    "    clf_lr_y = clf_lr.predict_proba(x_test)\n",
    "    clf_lr_y0 = list(clf_lr_y[:, 1])\n",
    "    lr_pred = np.r_[lr_pred, clf_lr_y0]\n",
    "    lr_y = np.r_[lr_y, y_test]\n",
    "\n",
    "    clf = RandomForestClassifier(n_estimators = 30)\n",
    "    clf_rf = clf.fit(x_train, y_train)\n",
    "    clf_rf_pred = clf_rf.predict_proba(x_test)\n",
    "    clf_rf_y0 = clf_rf_pred[:, 1]\n",
    "    rf_pred = np.r_[rf_pred, clf_rf_y0]\n",
    "    rf_y = np.r_[rf_y, y_test]\n"
   ],
   "metadata": {
    "collapsed": false
   }
  },
  {
   "cell_type": "code",
   "execution_count": 9,
   "outputs": [
    {
     "data": {
      "text/plain": "<Figure size 640x480 with 1 Axes>",
      "image/png": "[encoded data removed]"
     },
     "metadata": {},
     "output_type": "display_data"
    }
   ],
   "source": [
    "# vae_a_y_pred = np.amin(vae_a_y_pred, axis=1)\n",
    "vae_a_fpr, vae_a_tpr, vae_a_thresholds = roc_curve(total_vae_a_y_t, total_vae_a_y_pred)\n",
    "vae_b_fpr, vae_b_tpr, vae_b_thresholds = roc_curve(total_vae_b_y_t, total_vae_b_y_pred)\n",
    "vae_c_fpr, vae_c_tpr, vae_c_thresholds = roc_curve(total_vae_c_y_t, total_vae_c_y_pred)\n",
    "mdnnmd_fpr, mdnnmd_tpr, mdnnmd_thresholds = roc_curve(total_cna_y_t, mdnnmd_y_pred )\n",
    "\n",
    "\n",
    "vae_a_roc_auc = auc(vae_a_fpr, vae_a_tpr)\n",
    "vae_b_roc_auc = auc(vae_b_fpr, vae_b_tpr)\n",
    "vae_c_roc_auc = auc(vae_c_fpr, vae_c_tpr)\n",
    "mdnnmd_roc_auc = auc(mdnnmd_fpr, mdnnmd_tpr)\n",
    "\n",
    "\n",
    "plt.title(\"BRCA's ROC curve\")\n",
    "plt.plot(vae_a_fpr, vae_a_tpr, 'blue',label=u'VAE_A = %0.3f'% vae_a_roc_auc)\n",
    "plt.plot(vae_b_fpr, vae_b_tpr, 'black',label=u'VAE_B = %0.3f'% vae_b_roc_auc)\n",
    "plt.plot(vae_c_fpr, vae_c_tpr, 'green',label=u'VAE_C = %0.3f'% vae_c_roc_auc)\n",
    "plt.plot(mdnnmd_fpr, mdnnmd_tpr, 'red',label=u'MDNNMD = %0.3f'% mdnnmd_roc_auc)\n",
    "plt.legend(loc='lower right')\n",
    "# plt.plot([0,1],[0,1],'r--')\n",
    "ax = plt.gca()\n",
    "x_major_locator=MultipleLocator(0.2)\n",
    "y_major_locator=MultipleLocator(0.2)\n",
    "ax.xaxis.set_major_locator(x_major_locator)\n",
    "ax.yaxis.set_major_locator(y_major_locator)\n",
    "plt.xlim([0,1])\n",
    "plt.ylim([0,1])\n",
    "plt.ylabel('Sn')\n",
    "plt.xlabel('1-sp')\n",
    "# plt.grid(linestyle='-.')\n",
    "# plt.grid(True)\n",
    "plt.show()\n",
    "\n",
    "\n",
    "\n"
   ],
   "metadata": {
    "collapsed": false
   }
  },
  {
   "cell_type": "code",
   "execution_count": 10,
   "outputs": [
    {
     "data": {
      "text/plain": "<Figure size 640x480 with 1 Axes>",
      "image/png": "[encoded data removed]"
     },
     "metadata": {},
     "output_type": "display_data"
    }
   ],
   "source": [
    "vae_a_fpr, vae_a_tpr, vae_a_thresholds = roc_curve(total_vae_a_y_t, total_vae_a_y_pred)\n",
    "# vae_b_fpr, vae_b_tpr, vae_b_thresholds = roc_curve(total_vae_b_y_t, total_vae_b_y_pred)\n",
    "# vae_c_fpr, vae_c_tpr, vae_c_thresholds = roc_curve(total_vae_c_y_t, total_vae_c_y_pred)\n",
    "svm_fpr, svm_tpr, svm_threshold = roc_curve(svm_y, svm_pred)\n",
    "lr_fpr, lr_tpr, lr_threshold = roc_curve(lr_y, lr_pred)\n",
    "rf_fpr, rf_tpr, rf_threshold = roc_curve(rf_y, rf_pred)\n",
    "\n",
    "vae_a_roc_auc = auc(vae_a_fpr, vae_a_tpr)\n",
    "# vae_b_roc_auc = auc(vae_b_fpr, vae_b_tpr)\n",
    "# vae_c_roc_auc = auc(vae_c_fpr, vae_c_tpr)\n",
    "svm_roc_auc = auc(svm_fpr,svm_tpr)\n",
    "lr_roc_auc = auc(lr_fpr, lr_tpr)\n",
    "rf_roc_auc = auc(rf_fpr, rf_tpr)\n",
    "\n",
    "\n",
    "plt.figure()\n",
    "plt.plot(vae_a_fpr, vae_a_tpr, 'r',label=u'VAE_A = %0.3f'% vae_a_roc_auc)\n",
    "plt.plot(vae_b_fpr, vae_b_tpr, 'y',label=u'VAE_B = %0.3f'% vae_b_roc_auc)\n",
    "plt.plot(vae_c_fpr, vae_c_tpr, 'c',label=u'VAE_C = %0.3f'% vae_c_roc_auc)\n",
    "plt.plot(svm_fpr, svm_tpr, c='blue', label=u'SVM = %0.3f' % svm_roc_auc)\n",
    "plt.plot(lr_fpr, lr_tpr, c='black', label=u'LR = %0.3f' % lr_roc_auc)\n",
    "plt.plot(rf_fpr, rf_tpr, c='green', label=u'RF = %0.3f' % rf_roc_auc)\n",
    "\n",
    "\n",
    "\n",
    "plt.title(\"BRCA's ROC\")  # 设置标题\n",
    "plt.xlim([0, 1])\n",
    "plt.ylim([0, 1])\n",
    "plt.xlabel('1 - Sp')\n",
    "plt.ylabel('Sn')\n",
    "plt.legend(loc='lower right')\n",
    "plt.show()\n"
   ],
   "metadata": {
    "collapsed": false
   }
  },
  {
   "cell_type": "code",
   "execution_count": 11,
   "outputs": [
    {
     "name": "stdout",
     "output_type": "stream",
     "text": [
      "##########第1折##########\n"
     ]
    },
    {
     "name": "stderr",
     "output_type": "stream",
     "text": [
      "100%|█████████████████████████████████████████████████████████████████████████████████████████████████████████████████████████████████████████████████████████████████████████████████████████████████████████████████████| 100/100 [00:00<00:00, 141.39it/s]\n"
     ]
    },
    {
     "name": "stdout",
     "output_type": "stream",
     "text": [
      "##########第2折##########\n"
     ]
    },
    {
     "name": "stderr",
     "output_type": "stream",
     "text": [
      "100%|█████████████████████████████████████████████████████████████████████████████████████████████████████████████████████████████████████████████████████████████████████████████████████████████████████████████████████| 100/100 [00:00<00:00, 147.05it/s]\n"
     ]
    },
    {
     "name": "stdout",
     "output_type": "stream",
     "text": [
      "##########第3折##########\n"
     ]
    },
    {
     "name": "stderr",
     "output_type": "stream",
     "text": [
      "100%|█████████████████████████████████████████████████████████████████████████████████████████████████████████████████████████████████████████████████████████████████████████████████████████████████████████████████████| 100/100 [00:00<00:00, 122.38it/s]\n"
     ]
    },
    {
     "name": "stdout",
     "output_type": "stream",
     "text": [
      "##########第4折##########\n"
     ]
    },
    {
     "name": "stderr",
     "output_type": "stream",
     "text": [
      "100%|█████████████████████████████████████████████████████████████████████████████████████████████████████████████████████████████████████████████████████████████████████████████████████████████████████████████████████| 100/100 [00:00<00:00, 148.40it/s]\n"
     ]
    },
    {
     "name": "stdout",
     "output_type": "stream",
     "text": [
      "##########第5折##########\n"
     ]
    },
    {
     "name": "stderr",
     "output_type": "stream",
     "text": [
      "100%|█████████████████████████████████████████████████████████████████████████████████████████████████████████████████████████████████████████████████████████████████████████████████████████████████████████████████████| 100/100 [00:00<00:00, 150.73it/s]\n"
     ]
    },
    {
     "name": "stdout",
     "output_type": "stream",
     "text": [
      "##########第1折##########\n"
     ]
    },
    {
     "name": "stderr",
     "output_type": "stream",
     "text": [
      "100%|██████████████████████████████████████████████████████████████████████████████████████████████████████████████████████████████████████████████████████████████████████████████████████████████████████████████████████| 100/100 [00:02<00:00, 37.24it/s]\n"
     ]
    },
    {
     "name": "stdout",
     "output_type": "stream",
     "text": [
      "##########第2折##########\n"
     ]
    },
    {
     "name": "stderr",
     "output_type": "stream",
     "text": [
      "100%|██████████████████████████████████████████████████████████████████████████████████████████████████████████████████████████████████████████████████████████████████████████████████████████████████████████████████████| 100/100 [00:02<00:00, 38.12it/s]\n"
     ]
    },
    {
     "name": "stdout",
     "output_type": "stream",
     "text": [
      "##########第3折##########\n"
     ]
    },
    {
     "name": "stderr",
     "output_type": "stream",
     "text": [
      "100%|██████████████████████████████████████████████████████████████████████████████████████████████████████████████████████████████████████████████████████████████████████████████████████████████████████████████████████| 100/100 [00:02<00:00, 38.25it/s]\n"
     ]
    },
    {
     "name": "stdout",
     "output_type": "stream",
     "text": [
      "##########第4折##########\n"
     ]
    },
    {
     "name": "stderr",
     "output_type": "stream",
     "text": [
      "100%|██████████████████████████████████████████████████████████████████████████████████████████████████████████████████████████████████████████████████████████████████████████████████████████████████████████████████████| 100/100 [00:02<00:00, 37.34it/s]\n"
     ]
    },
    {
     "name": "stdout",
     "output_type": "stream",
     "text": [
      "##########第5折##########\n"
     ]
    },
    {
     "name": "stderr",
     "output_type": "stream",
     "text": [
      "100%|██████████████████████████████████████████████████████████████████████████████████████████████████████████████████████████████████████████████████████████████████████████████████████████████████████████████████████| 100/100 [00:02<00:00, 37.94it/s]\n"
     ]
    },
    {
     "name": "stdout",
     "output_type": "stream",
     "text": [
      "##########第1折##########\n"
     ]
    },
    {
     "name": "stderr",
     "output_type": "stream",
     "text": [
      "100%|██████████████████████████████████████████████████████████████████████████████████████████████████████████████████████████████████████████████████████████████████████████████████████████████████████████████████████| 100/100 [00:02<00:00, 34.01it/s]\n"
     ]
    },
    {
     "name": "stdout",
     "output_type": "stream",
     "text": [
      "##########第2折##########\n"
     ]
    },
    {
     "name": "stderr",
     "output_type": "stream",
     "text": [
      "100%|██████████████████████████████████████████████████████████████████████████████████████████████████████████████████████████████████████████████████████████████████████████████████████████████████████████████████████| 100/100 [00:02<00:00, 37.79it/s]\n"
     ]
    },
    {
     "name": "stdout",
     "output_type": "stream",
     "text": [
      "##########第3折##########\n"
     ]
    },
    {
     "name": "stderr",
     "output_type": "stream",
     "text": [
      "100%|██████████████████████████████████████████████████████████████████████████████████████████████████████████████████████████████████████████████████████████████████████████████████████████████████████████████████████| 100/100 [00:02<00:00, 38.00it/s]\n"
     ]
    },
    {
     "name": "stdout",
     "output_type": "stream",
     "text": [
      "##########第4折##########\n"
     ]
    },
    {
     "name": "stderr",
     "output_type": "stream",
     "text": [
      "100%|██████████████████████████████████████████████████████████████████████████████████████████████████████████████████████████████████████████████████████████████████████████████████████████████████████████████████████| 100/100 [00:02<00:00, 36.88it/s]\n"
     ]
    },
    {
     "name": "stdout",
     "output_type": "stream",
     "text": [
      "##########第5折##########\n"
     ]
    },
    {
     "name": "stderr",
     "output_type": "stream",
     "text": [
      "100%|██████████████████████████████████████████████████████████████████████████████████████████████████████████████████████████████████████████████████████████████████████████████████████████████████████████████████████| 100/100 [00:02<00:00, 37.57it/s]\n"
     ]
    },
    {
     "name": "stdout",
     "output_type": "stream",
     "text": [
      "##########第1折##########\n"
     ]
    },
    {
     "name": "stderr",
     "output_type": "stream",
     "text": [
      "100%|██████████████████████████████████████████████████████████████████████████████████████████████████████████████████████████████████████████████████████████████████████████████████████████████████████████████████████| 100/100 [00:02<00:00, 37.31it/s]\n"
     ]
    },
    {
     "name": "stdout",
     "output_type": "stream",
     "text": [
      "##########第2折##########\n"
     ]
    },
    {
     "name": "stderr",
     "output_type": "stream",
     "text": [
      "100%|██████████████████████████████████████████████████████████████████████████████████████████████████████████████████████████████████████████████████████████████████████████████████████████████████████████████████████| 100/100 [00:02<00:00, 38.89it/s]\n"
     ]
    },
    {
     "name": "stdout",
     "output_type": "stream",
     "text": [
      "##########第3折##########\n"
     ]
    },
    {
     "name": "stderr",
     "output_type": "stream",
     "text": [
      "100%|██████████████████████████████████████████████████████████████████████████████████████████████████████████████████████████████████████████████████████████████████████████████████████████████████████████████████████| 100/100 [00:02<00:00, 38.42it/s]\n"
     ]
    },
    {
     "name": "stdout",
     "output_type": "stream",
     "text": [
      "##########第4折##########\n"
     ]
    },
    {
     "name": "stderr",
     "output_type": "stream",
     "text": [
      "100%|██████████████████████████████████████████████████████████████████████████████████████████████████████████████████████████████████████████████████████████████████████████████████████████████████████████████████████| 100/100 [00:02<00:00, 36.48it/s]\n"
     ]
    },
    {
     "name": "stdout",
     "output_type": "stream",
     "text": [
      "##########第5折##########\n"
     ]
    },
    {
     "name": "stderr",
     "output_type": "stream",
     "text": [
      "100%|██████████████████████████████████████████████████████████████████████████████████████████████████████████████████████████████████████████████████████████████████████████████████████████████████████████████████████| 100/100 [00:02<00:00, 37.57it/s]"
     ]
    },
    {
     "name": "stdout",
     "output_type": "stream",
     "text": [
      "CPU times: user 44.5 s, sys: 321 ms, total: 44.8 s\n",
      "Wall time: 44.4 s\n"
     ]
    },
    {
     "name": "stderr",
     "output_type": "stream",
     "text": [
      "\n"
     ]
    }
   ],
   "source": [
    "%%time\n",
    "#VAE_A\n",
    "#Clinical Network\n",
    "#DataSet\n",
    "class TcbbDataset(Dataset):\n",
    "    def __init__(self, data_path, label_path):\n",
    "        super(TcbbDataset, self).__init__()\n",
    "        self.data = pd.read_csv(data_path)\n",
    "        self.label = pd.read_csv(label_path)\n",
    "        self.label = self.label.astype(float)\n",
    "        self.x_data = torch.tensor(self.data.values, dtype=torch.float32)\n",
    "        self.y_data = torch.tensor(self.label.values, dtype=torch.float32)\n",
    "\n",
    "    def __getitem__(self, idx):\n",
    "        return self.x_data[idx], self.y_data[idx]\n",
    "\n",
    "    def __len__(self):\n",
    "        return len(self.x_data)\n",
    "\n",
    "clincal_dataset = TcbbDataset(clincal_data_path, label_data_path)\n",
    "in_features = clincal_dataset.x_data.shape[1]\n",
    "\n",
    "#Net Structure\n",
    "class Sample(nn.Module):\n",
    "    def __init__(self):\n",
    "        super(Sample, self).__init__()\n",
    "    def forward(self, z_mean, z_log_var):\n",
    "        eps = torch.randn(z_mean.shape)\n",
    "        eps = eps.to(device)\n",
    "        std = torch.exp(z_log_var / 2)\n",
    "        out = z_mean + std*eps\n",
    "        return out\n",
    "\n",
    "class Encoder(nn.Module):\n",
    "    def __init__(self):\n",
    "        super(Encoder, self).__init__()\n",
    "        self.model = nn.Sequential(\n",
    "            nn.Linear(in_features, 256),\n",
    "            nn.Dropout(p=0.15, inplace=False),\n",
    "            nn.ReLU(),\n",
    "            nn.Linear(256, 64),\n",
    "            nn.Dropout(p=0.15, inplace=False),\n",
    "            nn.ReLU(),\n",
    "            nn.Linear(64, 32),\n",
    "            nn.Dropout(p=0.15, inplace=False),\n",
    "            nn.ReLU()\n",
    "        )\n",
    "        self.z_mean = nn.Linear(32, 6)\n",
    "        self.z_log_var = nn.Linear(32, 6)\n",
    "        self.sample = Sample()\n",
    "\n",
    "    def forward(self, x):\n",
    "        out = self.model(x)\n",
    "        z_mean = self.z_mean(out)\n",
    "        z_log_var = self.z_log_var(out)\n",
    "        out = self.sample(z_mean, z_log_var)\n",
    "        return out, z_mean, z_log_var\n",
    "\n",
    "class Decoder(nn.Module):\n",
    "    def __init__(self):\n",
    "        super(Decoder, self).__init__()\n",
    "        self.model = nn.Sequential(\n",
    "            nn.Linear(6, 32),\n",
    "            nn.Dropout(p=0.15, inplace=False),\n",
    "            nn.ReLU(),\n",
    "            nn.Linear(32, 64),\n",
    "            nn.Dropout(p=0.15, inplace=False),\n",
    "            nn.ReLU(),\n",
    "            nn.Linear(64, 256),\n",
    "            nn.Dropout(p=0.15, inplace=False),\n",
    "            nn.ReLU(),\n",
    "            nn.Linear(256, 50),\n",
    "            nn.Dropout(p=0.15, inplace=False),\n",
    "            nn.ReLU()\n",
    "        )\n",
    "\n",
    "    def forward(self, z):\n",
    "        out = self.model(z)\n",
    "        return out\n",
    "\n",
    "class Classfier(nn.Module):\n",
    "    def __init__(self):\n",
    "        super(Classfier, self).__init__()\n",
    "        self.model = nn.Sequential(\n",
    "            nn.Linear(50, 200, bias = True), #input layer\n",
    "            nn.BatchNorm1d(200, eps = 1e-3),\n",
    "            nn.ReLU(),\n",
    "            nn.Dropout(p=0.78, inplace=False),\n",
    "            nn.Linear(200, 400, bias = True), # 1 hidden layer\n",
    "            nn.BatchNorm1d(400, eps = 1e-3),\n",
    "            nn.ReLU(),\n",
    "            nn.Dropout(p=0.78, inplace=False),\n",
    "            nn.Linear(400, 100, bias = True), # 2 hidden layer\n",
    "            nn.BatchNorm1d(100, eps = 1e-3),\n",
    "            nn.ReLU(),\n",
    "            nn.Dropout(p=0.78, inplace=False),\n",
    "            nn.Linear(100, 2, bias = True), # 2 hidden layer\n",
    "            nn.Softmax(dim = 1)    #outpust layer\n",
    "        )\n",
    "    def forward(self, x):\n",
    "        x = self.model(x)\n",
    "        return x\n",
    "\n",
    "class VAE_A(nn.Module):\n",
    "    def __init__(self):\n",
    "        super(VAE_A, self).__init__()\n",
    "        self.encoder = Encoder()\n",
    "        self.decoder = Decoder()\n",
    "        self.classfier = Classfier()\n",
    "    def forward(self, x):\n",
    "        x, mean, var = self.encoder(x)\n",
    "        x = self.decoder(x)\n",
    "        x = self.classfier(x)\n",
    "        return x\n",
    "class Classf(nn.Module):\n",
    "    def __init__(self):\n",
    "        super(Classf, self).__init__()\n",
    "        self.model = nn.Sequential(\n",
    "            nn.Linear(in_features, 100, bias = True), #input layer\n",
    "            nn.BatchNorm1d(100, eps = 1e-3),\n",
    "            nn.ReLU(),\n",
    "            nn.Dropout(p=0.5, inplace=False),\n",
    "            nn.Linear(100, 2, bias = True), # 2 hidden layer\n",
    "            nn.Softmax(dim = 1)    #outpust layer\n",
    "        )\n",
    "    def forward(self, x):\n",
    "        x = self.model(x)\n",
    "        return x\n",
    "#Divide DataSet\n",
    "kfold = KFold(n_splits = 5)\n",
    "total_clincal_fpr = 0\n",
    "total_clincal_tpr = 0\n",
    "total_clincal_a_y_pred = 0\n",
    "total_clincal_a_y_t = 0\n",
    "num_epoch = 100\n",
    "max_accuracy = 0\n",
    "Clincal_A_Model = Classf()\n",
    "Clincal_A_Model.to(device)\n",
    "learning_rate = 1e-3\n",
    "optimizer = torch.optim.Adam(Clincal_A_Model.parameters(), lr=learning_rate)\n",
    "criterion = nn.CrossEntropyLoss()\n",
    "criterion.to(device)\n",
    "k_num = 1\n",
    "\n",
    "for train_idx, valid_idx in kfold.split(clincal_dataset):\n",
    "    print(\"##########第{}折##########\".format(k_num))\n",
    "    k_num = k_num + 1\n",
    "    clincal_train_set = Subset(clincal_dataset, train_idx)\n",
    "    clincal_test_set = Subset(clincal_dataset, valid_idx)\n",
    "    clincal_train_set, clincal_valid_set = train_test_split(clincal_train_set, test_size=0.2)\n",
    "    clincal_train_dataloader = DataLoader(clincal_train_set, batch_size=len(clincal_train_set))\n",
    "    clincal_valid_dataloader = DataLoader(clincal_valid_set, batch_size=len(clincal_test_set))\n",
    "    clincal_test_dataloader = DataLoader(clincal_test_set, batch_size = len(clincal_test_set))\n",
    "    for epoch in tqdm(range(num_epoch)):\n",
    "        #Train\n",
    "        Clincal_A_Model.train()\n",
    "        for data in clincal_train_dataloader:\n",
    "            x_data, y_t = data\n",
    "            x_data = x_data.to(device)\n",
    "            y_t = y_t.to(device)\n",
    "            y_t = y_t.squeeze(dim = 1)\n",
    "            y_pred = Clincal_A_Model(x_data)\n",
    "            loss = criterion(y_pred, y_t.long())\n",
    "\n",
    "            optimizer.zero_grad()\n",
    "            loss.backward()\n",
    "            optimizer.step()\n",
    "\n",
    "        #Eval\n",
    "        Clincal_A_Model.eval()\n",
    "        total_test_loss = 0\n",
    "        total_accuracy = 0\n",
    "        with torch.no_grad():\n",
    "            for data in clincal_valid_dataloader:\n",
    "                x_data , y_t = data\n",
    "                x_data = x_data.to(device)\n",
    "                y_t = y_t.to(device)\n",
    "                y_pred = Clincal_A_Model(x_data)\n",
    "                # print(y_pred\n",
    "                y_t = y_t.squeeze(dim = 1)\n",
    "                loss = criterion(y_pred, y_t.long())\n",
    "                total_test_loss = total_test_loss + loss.item()\n",
    "                accuracy = (y_pred.argmax(1) == y_t).sum()\n",
    "                total_accuracy = total_accuracy + accuracy\n",
    "        # print(\"Validation set's Loss：{}\".format(total_test_loss/num_epoch))\n",
    "        if((total_accuracy/len(clincal_valid_set)) > max_accuracy):\n",
    "            max_accuracy = total_accuracy/len(clincal_valid_set)\n",
    "            torch.save(Clincal_A_Model, \"/data/minwenwen/lixiaoyu/TCGA/Model/Clincal_A_Model_Best.pth\")\n",
    "    #Clincal TEST\n",
    "    clincal_model = torch.load('/data/minwenwen/lixiaoyu/TCGA/Model/Clincal_A_Model_Best.pth')\n",
    "    clincal_model.eval()\n",
    "    with torch.no_grad():\n",
    "        for data in clincal_test_dataloader:\n",
    "            x_data , y_t = data\n",
    "            x_data = x_data.to(device)\n",
    "            y_t = y_t.to(device)\n",
    "            y_pred = clincal_model(x_data)\n",
    "            y_t = y_t.squeeze(dim = 1)\n",
    "\n",
    "            y_t = y_t.cpu().numpy()\n",
    "            y_pred = y_pred.cpu().numpy()\n",
    "            clincal_y_pred = np.amin(y_pred, axis=1)\n",
    "            clincal_y_t = y_t\n",
    "\n",
    "            total_clincal_a_y_pred = np.r_[clincal_y_pred, total_clincal_a_y_pred]\n",
    "            total_clincal_a_y_t = np.r_[clincal_y_t, total_clincal_a_y_t]\n",
    "\n",
    "#Gene_Exp Network\n",
    "#DataSet\n",
    "gene_dataset = TcbbDataset(gene_data_path, label_data_path)\n",
    "in_features = gene_dataset.x_data.shape[1]\n",
    "\n",
    "#Divide DataSet\n",
    "total_gene_a_y_pred = 0\n",
    "total_gene_a_y_t =0\n",
    "Gene_A_Model = VAE_A()\n",
    "Gene_A_Model.to(device)\n",
    "learning_rate = 1e-3\n",
    "\n",
    "optimizer = torch.optim.Adam(Gene_A_Model.parameters(),lr=learning_rate) # 优化器使用Adam，传入网络参数和学习率\n",
    "criterion = nn.CrossEntropyLoss()# 损失函数使用交叉熵损失函数\n",
    "criterion.to(device)\n",
    "# num_epoch = 100\n",
    "max_accuracy = 0\n",
    "k_num = 1\n",
    "for train_idx, valid_idx in kfold.split(gene_dataset):\n",
    "    print(\"##########第{}折##########\".format(k_num))\n",
    "    k_num = k_num + 1\n",
    "    gene_train_set = Subset(gene_dataset, train_idx)\n",
    "    gene_test_set = Subset(gene_dataset, valid_idx)\n",
    "    gene_train_set, gene_valid_set = train_test_split(gene_train_set, test_size=0.2)\n",
    "    gene_train_dataloader = DataLoader(gene_train_set, batch_size=len(gene_train_set))\n",
    "    gene_valid_dataloader = DataLoader(gene_valid_set, batch_size=len(gene_valid_set))\n",
    "    gene_test_dataloader = DataLoader(gene_test_set, batch_size = len(gene_test_set))\n",
    "    for epoch in tqdm(range(num_epoch)):\n",
    "        #Train\n",
    "        Gene_A_Model.train()\n",
    "        for data in gene_train_dataloader:\n",
    "            x_data, y_t = data\n",
    "            x_data = x_data.to(device)\n",
    "            y_t = y_t.to(device)\n",
    "            y_t = y_t.squeeze(dim = 1)\n",
    "            y_pred = Gene_A_Model(x_data)\n",
    "            loss = criterion(y_pred, y_t.long())\n",
    "\n",
    "            optimizer.zero_grad()\n",
    "            loss.backward()\n",
    "            optimizer.step()\n",
    "\n",
    "        Gene_A_Model.eval()\n",
    "        total_test_loss = 0\n",
    "        total_accuracy = 0\n",
    "        with torch.no_grad():\n",
    "            for data in gene_valid_dataloader:\n",
    "                x_data , y_t = data\n",
    "                x_data = x_data.to(device)\n",
    "                y_t = y_t.to(device)\n",
    "                y_pred = Gene_A_Model(x_data)\n",
    "                y_t = y_t.squeeze(dim = 1)\n",
    "                loss = criterion(y_pred, y_t.long())\n",
    "                total_test_loss = total_test_loss + loss.item()\n",
    "                accuracy = (y_pred.argmax(1) == y_t).sum()\n",
    "                total_accuracy = total_accuracy + accuracy\n",
    "        if((total_accuracy/len(gene_valid_set)) > max_accuracy):\n",
    "            max_accuracy = total_accuracy/len(gene_valid_set)\n",
    "            torch.save(Gene_A_Model, \"/data/minwenwen/lixiaoyu/TCGA/Model/Gene_A_Model_Best.pth\")\n",
    "\n",
    "    gene_model = torch.load('/data/minwenwen/lixiaoyu/TCGA/Model/Gene_A_Model_Best.pth')\n",
    "    gene_model.eval()\n",
    "    with torch.no_grad():\n",
    "        for data in gene_test_dataloader:\n",
    "            x_data , y_t = data\n",
    "            x_data = x_data.to(device)\n",
    "            y_t = y_t.to(device)\n",
    "            y_pred = gene_model(x_data)\n",
    "            y_t = y_t.squeeze(dim = 1)\n",
    "            acc_tmp = (y_pred.argmax(1) == y_t).sum()\n",
    "            y_t = y_t.cpu().numpy()\n",
    "            y_pred = y_pred.cpu().numpy()\n",
    "            gene_y_pred = np.amin(y_pred, axis=1)\n",
    "            gene_y_t = y_t\n",
    "\n",
    "            total_gene_a_y_pred = np.r_[total_gene_a_y_pred, gene_y_pred]\n",
    "            total_gene_a_y_t = np.r_[total_gene_a_y_t, gene_y_t]\n",
    "\n",
    "#CNA_Exp Network\n",
    "#DataSet\n",
    "cna_dataset = TcbbDataset(cna_data_path, label_data_path)\n",
    "in_features = cna_dataset.x_data.shape[1]\n",
    "\n",
    "#Divide DataSet\n",
    "max_accuracy = 0\n",
    "k_num = 1\n",
    "total_cna_a_y_pred = 0\n",
    "total_cna_a_y_t = 0\n",
    "CNA_A_Model = VAE_A()\n",
    "CNA_A_Model.to(device)\n",
    "learning_rate = 1e-3\n",
    "\n",
    "optimizer = torch.optim.Adam(CNA_A_Model.parameters(),lr=learning_rate) # 优化器使用Adam，传入网络参数和学习率\n",
    "criterion = nn.CrossEntropyLoss()# 损失函数使用交叉熵损失函数\n",
    "criterion.to(device)\n",
    "# num_epoch = 100\n",
    "max_accuracy = 0\n",
    "for train_idx, valid_idx in kfold.split(cna_dataset):\n",
    "    print(\"##########第{}折##########\".format(k_num))\n",
    "    k_num = k_num + 1\n",
    "    cna_train_set = Subset(cna_dataset, train_idx)\n",
    "    cna_test_set = Subset(cna_dataset, valid_idx)\n",
    "    cna_train_set, cna_valid_set = train_test_split(cna_train_set, test_size=0.2)\n",
    "    cna_train_dataloader = DataLoader(cna_train_set, batch_size=len(cna_train_set))\n",
    "    cna_valid_dataloader = DataLoader(cna_valid_set, batch_size=len(cna_valid_set))\n",
    "    cna_test_dataloader = DataLoader(cna_test_set, batch_size = len(cna_test_set))\n",
    "\n",
    "    for epoch in tqdm(range(num_epoch)):\n",
    "     #Train\n",
    "        CNA_A_Model.train()\n",
    "        for data in cna_train_dataloader:\n",
    "            x_data, y_t = data\n",
    "            x_data = x_data.to(device)\n",
    "            y_t = y_t.to(device)\n",
    "            y_t = y_t.squeeze(dim = 1)\n",
    "            y_pred = CNA_A_Model(x_data)\n",
    "            loss = criterion(y_pred, y_t.long())\n",
    "\n",
    "            optimizer.zero_grad()\n",
    "            loss.backward()\n",
    "            optimizer.step()\n",
    "\n",
    "    #Eval\n",
    "        CNA_A_Model.eval()\n",
    "        total_test_loss = 0\n",
    "        total_accuracy = 0\n",
    "        with torch.no_grad():\n",
    "            for data in cna_valid_dataloader:\n",
    "                x_data , y_t = data\n",
    "                x_data = x_data.to(device)\n",
    "                y_t = y_t.to(device)\n",
    "                y_pred = CNA_A_Model(x_data)\n",
    "                y_t = y_t.squeeze(dim = 1)\n",
    "                loss = criterion(y_pred, y_t.long())\n",
    "                total_test_loss = total_test_loss + loss.item()\n",
    "                accuracy = (y_pred.argmax(1) == y_t).sum()\n",
    "                total_accuracy = total_accuracy + accuracy\n",
    "        if((total_accuracy/len(cna_valid_set)) > max_accuracy):\n",
    "            max_accuracy = total_accuracy/len(cna_valid_set)\n",
    "            torch.save(CNA_MDNNMD, \"/data/minwenwen/lixiaoyu/TCGA/Model/CNA_A_Model_Best.pth\")\n",
    "\n",
    "    cna_model = torch.load('/data/minwenwen/lixiaoyu/TCGA/Model/CNA_A_Model_Best.pth')\n",
    "    cna_model.eval()\n",
    "    with torch.no_grad():\n",
    "        for data in cna_test_dataloader:\n",
    "            x_data , y_t = data\n",
    "            x_data = x_data.to(device)\n",
    "            y_t = y_t.to(device)\n",
    "            y_pred = cna_model(x_data)\n",
    "            y_t = y_t.squeeze(dim = 1)\n",
    "            acc_tmp = (y_pred.argmax(1) == y_t).sum()\n",
    "            y_t = y_t.cpu().numpy()\n",
    "            y_pred = y_pred.cpu().numpy()\n",
    "            cna_y_pred = np.amin(y_pred, axis=1)\n",
    "            cna_y_t = y_t\n",
    "\n",
    "            total_cna_a_y_pred = np.r_[total_cna_a_y_pred, cna_y_pred]\n",
    "            total_cna_a_y_t = np.r_[total_cna_a_y_t, cna_y_t]\n",
    "\n",
    "\n",
    "#Microbiome\n",
    "\n",
    "#CNA_Exp Network\n",
    "#DataSet\n",
    "micro_dataset = TcbbDataset(micro_data_path, label_data_path)\n",
    "in_features = micro_dataset.x_data.shape[1]\n",
    "\n",
    "#Divide DataSet\n",
    "max_accuracy = 0\n",
    "k_num = 1\n",
    "total_micro_a_y_pred = 0\n",
    "total_micro_a_y_t = 0\n",
    "MICRO_A_Model = VAE_A()\n",
    "MICRO_A_Model.to(device)\n",
    "learning_rate = 1e-3\n",
    "\n",
    "optimizer = torch.optim.Adam(MICRO_A_Model.parameters(),lr=learning_rate) # 优化器使用Adam，传入网络参数和学习率\n",
    "criterion = nn.CrossEntropyLoss()# 损失函数使用交叉熵损失函数\n",
    "criterion.to(device)\n",
    "# num_epoch = 100\n",
    "max_accuracy = 0\n",
    "for train_idx, valid_idx in kfold.split(cna_dataset):\n",
    "    print(\"##########第{}折##########\".format(k_num))\n",
    "    k_num = k_num + 1\n",
    "    micro_train_set = Subset(micro_dataset, train_idx)\n",
    "    micro_test_set = Subset(micro_dataset, valid_idx)\n",
    "    micro_train_set, micro_valid_set = train_test_split(micro_train_set, test_size=0.2)\n",
    "    micro_train_dataloader = DataLoader(micro_train_set, batch_size=len(micro_train_set))\n",
    "    micro_valid_dataloader = DataLoader(micro_valid_set, batch_size=len(micro_valid_set))\n",
    "    micro_test_dataloader = DataLoader(micro_test_set, batch_size = len(micro_test_set))\n",
    "\n",
    "    for epoch in tqdm(range(num_epoch)):\n",
    "     #Train\n",
    "        MICRO_A_Model.train()\n",
    "        for data in micro_train_dataloader:\n",
    "            x_data, y_t = data\n",
    "            x_data = x_data.to(device)\n",
    "            y_t = y_t.to(device)\n",
    "            y_t = y_t.squeeze(dim = 1)\n",
    "            y_pred = MICRO_A_Model (x_data)\n",
    "            loss = criterion(y_pred, y_t.long())\n",
    "\n",
    "            optimizer.zero_grad()\n",
    "            loss.backward()\n",
    "            optimizer.step()\n",
    "\n",
    "    #Eval\n",
    "        MICRO_A_Model.eval()\n",
    "        total_test_loss = 0\n",
    "        total_accuracy = 0\n",
    "        with torch.no_grad():\n",
    "            for data in micro_valid_dataloader:\n",
    "                x_data , y_t = data\n",
    "                x_data = x_data.to(device)\n",
    "                y_t = y_t.to(device)\n",
    "                y_pred = MICRO_A_Model (x_data)\n",
    "                y_t = y_t.squeeze(dim = 1)\n",
    "                loss = criterion(y_pred, y_t.long())\n",
    "                total_test_loss = total_test_loss + loss.item()\n",
    "                accuracy = (y_pred.argmax(1) == y_t).sum()\n",
    "                total_accuracy = total_accuracy + accuracy\n",
    "        if((total_accuracy/len(micro_valid_set)) > max_accuracy):\n",
    "            max_accuracy = total_accuracy/len(micro_valid_set)\n",
    "            torch.save(MICRO_A_Model, \"/data/minwenwen/lixiaoyu/TCGA/Model/MICRO_A_Model_Best.pth\")\n",
    "\n",
    "    micro_model = torch.load('/data/minwenwen/lixiaoyu/TCGA/Model/MICRO_A_Model_Best.pth')\n",
    "    micro_model.eval()\n",
    "    with torch.no_grad():\n",
    "        for data in micro_test_dataloader:\n",
    "            x_data , y_t = data\n",
    "            x_data = x_data.to(device)\n",
    "            y_t = y_t.to(device)\n",
    "            y_pred = micro_model(x_data)\n",
    "            y_t = y_t.squeeze(dim = 1)\n",
    "            acc_tmp = (y_pred.argmax(1) == y_t).sum()\n",
    "            y_t = y_t.cpu().numpy()\n",
    "            y_pred = y_pred.cpu().numpy()\n",
    "            micro_y_pred = np.amin(y_pred, axis=1)\n",
    "            micro_y_t = y_t\n",
    "\n",
    "            total_micro_a_y_pred = np.r_[total_micro_a_y_pred, micro_y_pred]\n",
    "            total_micro_a_y_t = np.r_[total_micro_a_y_t,micro_y_t]\n"
   ],
   "metadata": {
    "collapsed": false
   }
  },
  {
   "cell_type": "code",
   "execution_count": 12,
   "outputs": [
    {
     "data": {
      "text/plain": "<Figure size 640x480 with 1 Axes>",
      "image/png": "[encoded data removed]"
     },
     "metadata": {},
     "output_type": "display_data"
    }
   ],
   "source": [
    "# vae_a_y_pred = np.amin(vae_a_y_pred, axis=1)\n",
    "vae_a_fpr, vae_a_tpr, vae_a_thresholds = roc_curve(total_vae_a_y_t, total_vae_a_y_pred)\n",
    "clincal_a_fpr, clincal_a_tpr, clincal_a_thresholds = roc_curve(total_clincal_a_y_t, total_clincal_a_y_pred)\n",
    "cna_a_fpr, cna_a_tpr, cna_a_thresholds = roc_curve(total_cna_a_y_t, total_cna_a_y_pred)\n",
    "gene_a_fpr, gene_a_tpr, gene_a_thresholds = roc_curve(total_gene_a_y_t, total_gene_a_y_pred)\n",
    "micro_a_fpr, micro_a_tpr, micro_a_thresholds = roc_curve(total_micro_a_y_t, total_micro_a_y_pred)\n",
    "\n",
    "\n",
    "vae_a_roc_auc = auc(vae_a_fpr, vae_a_tpr)\n",
    "clincal_a_roc_auc = auc(clincal_a_fpr, clincal_a_tpr)\n",
    "cna_a_roc_auc = auc(cna_a_fpr, cna_a_tpr)\n",
    "gene_a_roc_auc = auc(gene_a_fpr, gene_a_tpr)\n",
    "micro_a_roc_auc = auc(micro_a_fpr, micro_a_tpr)\n",
    "\n",
    "\n",
    "plt.title(\"Unimodel and Multimodal's VAE_A ROC curve\")\n",
    "plt.plot(vae_a_fpr, vae_a_tpr, 'blue',label=u'VAE_A = %0.3f'% vae_a_roc_auc)\n",
    "plt.plot(clincal_a_fpr, clincal_a_tpr, 'black',label=u'Clincal = %0.3f'% clincal_a_roc_auc)\n",
    "plt.plot(cna_a_fpr, cna_a_tpr, 'green',label=u'CNA = %0.3f'% cna_a_roc_auc)\n",
    "plt.plot(gene_a_fpr, gene_a_tpr, 'red',label=u'GENE = %0.3f'% gene_a_roc_auc)\n",
    "plt.plot(micro_a_fpr, micro_a_tpr, 'c',label=u'MICRO = %0.3f'% micro_a_roc_auc)\n",
    "plt.legend(loc='lower right')\n",
    "# plt.plot([0,1],[0,1],'r--')\n",
    "ax = plt.gca()\n",
    "x_major_locator=MultipleLocator(0.2)\n",
    "y_major_locator=MultipleLocator(0.2)\n",
    "ax.xaxis.set_major_locator(x_major_locator)\n",
    "ax.yaxis.set_major_locator(y_major_locator)\n",
    "plt.xlim([0,1])\n",
    "plt.ylim([0,1])\n",
    "plt.ylabel('Sn')\n",
    "plt.xlabel('1-sp')\n",
    "# plt.grid(linestyle='-.')\n",
    "# plt.grid(True)\n",
    "plt.show()\n",
    "\n",
    "\n",
    "\n"
   ],
   "metadata": {
    "collapsed": false
   }
  },
  {
   "cell_type": "code",
   "execution_count": 13,
   "outputs": [
    {
     "name": "stdout",
     "output_type": "stream",
     "text": [
      "##########第1折##########\n"
     ]
    },
    {
     "name": "stderr",
     "output_type": "stream",
     "text": [
      "100%|█████████████████████████████████████████████████████████████████████████████████████████████████████████████████████████████████████████████████████████████████████████████████████████████████████████████████████| 100/100 [00:00<00:00, 143.77it/s]\n"
     ]
    },
    {
     "name": "stdout",
     "output_type": "stream",
     "text": [
      "##########第2折##########\n"
     ]
    },
    {
     "name": "stderr",
     "output_type": "stream",
     "text": [
      "100%|█████████████████████████████████████████████████████████████████████████████████████████████████████████████████████████████████████████████████████████████████████████████████████████████████████████████████████| 100/100 [00:00<00:00, 150.68it/s]\n"
     ]
    },
    {
     "name": "stdout",
     "output_type": "stream",
     "text": [
      "##########第3折##########\n"
     ]
    },
    {
     "name": "stderr",
     "output_type": "stream",
     "text": [
      "100%|█████████████████████████████████████████████████████████████████████████████████████████████████████████████████████████████████████████████████████████████████████████████████████████████████████████████████████| 100/100 [00:00<00:00, 150.23it/s]\n"
     ]
    },
    {
     "name": "stdout",
     "output_type": "stream",
     "text": [
      "##########第4折##########\n"
     ]
    },
    {
     "name": "stderr",
     "output_type": "stream",
     "text": [
      "100%|█████████████████████████████████████████████████████████████████████████████████████████████████████████████████████████████████████████████████████████████████████████████████████████████████████████████████████| 100/100 [00:00<00:00, 148.42it/s]\n"
     ]
    },
    {
     "name": "stdout",
     "output_type": "stream",
     "text": [
      "##########第5折##########\n"
     ]
    },
    {
     "name": "stderr",
     "output_type": "stream",
     "text": [
      "100%|█████████████████████████████████████████████████████████████████████████████████████████████████████████████████████████████████████████████████████████████████████████████████████████████████████████████████████| 100/100 [00:00<00:00, 148.70it/s]\n"
     ]
    },
    {
     "name": "stdout",
     "output_type": "stream",
     "text": [
      "##########第1折##########\n"
     ]
    },
    {
     "name": "stderr",
     "output_type": "stream",
     "text": [
      "100%|██████████████████████████████████████████████████████████████████████████████████████████████████████████████████████████████████████████████████████████████████████████████████████████████████████████████████████| 100/100 [00:02<00:00, 37.69it/s]\n"
     ]
    },
    {
     "name": "stdout",
     "output_type": "stream",
     "text": [
      "##########第2折##########\n"
     ]
    },
    {
     "name": "stderr",
     "output_type": "stream",
     "text": [
      "100%|██████████████████████████████████████████████████████████████████████████████████████████████████████████████████████████████████████████████████████████████████████████████████████████████████████████████████████| 100/100 [00:02<00:00, 36.78it/s]\n"
     ]
    },
    {
     "name": "stdout",
     "output_type": "stream",
     "text": [
      "##########第3折##########\n"
     ]
    },
    {
     "name": "stderr",
     "output_type": "stream",
     "text": [
      "100%|██████████████████████████████████████████████████████████████████████████████████████████████████████████████████████████████████████████████████████████████████████████████████████████████████████████████████████| 100/100 [00:02<00:00, 38.04it/s]\n"
     ]
    },
    {
     "name": "stdout",
     "output_type": "stream",
     "text": [
      "##########第4折##########\n"
     ]
    },
    {
     "name": "stderr",
     "output_type": "stream",
     "text": [
      "100%|██████████████████████████████████████████████████████████████████████████████████████████████████████████████████████████████████████████████████████████████████████████████████████████████████████████████████████| 100/100 [00:02<00:00, 38.19it/s]\n"
     ]
    },
    {
     "name": "stdout",
     "output_type": "stream",
     "text": [
      "##########第5折##########\n"
     ]
    },
    {
     "name": "stderr",
     "output_type": "stream",
     "text": [
      "100%|██████████████████████████████████████████████████████████████████████████████████████████████████████████████████████████████████████████████████████████████████████████████████████████████████████████████████████| 100/100 [00:02<00:00, 37.82it/s]\n"
     ]
    },
    {
     "name": "stdout",
     "output_type": "stream",
     "text": [
      "##########第1折##########\n"
     ]
    },
    {
     "name": "stderr",
     "output_type": "stream",
     "text": [
      "100%|██████████████████████████████████████████████████████████████████████████████████████████████████████████████████████████████████████████████████████████████████████████████████████████████████████████████████████| 100/100 [00:02<00:00, 37.19it/s]\n"
     ]
    },
    {
     "name": "stdout",
     "output_type": "stream",
     "text": [
      "##########第2折##########\n"
     ]
    },
    {
     "name": "stderr",
     "output_type": "stream",
     "text": [
      "100%|██████████████████████████████████████████████████████████████████████████████████████████████████████████████████████████████████████████████████████████████████████████████████████████████████████████████████████| 100/100 [00:02<00:00, 37.85it/s]\n"
     ]
    },
    {
     "name": "stdout",
     "output_type": "stream",
     "text": [
      "##########第3折##########\n"
     ]
    },
    {
     "name": "stderr",
     "output_type": "stream",
     "text": [
      "100%|██████████████████████████████████████████████████████████████████████████████████████████████████████████████████████████████████████████████████████████████████████████████████████████████████████████████████████| 100/100 [00:02<00:00, 37.63it/s]\n"
     ]
    },
    {
     "name": "stdout",
     "output_type": "stream",
     "text": [
      "##########第4折##########\n"
     ]
    },
    {
     "name": "stderr",
     "output_type": "stream",
     "text": [
      "100%|██████████████████████████████████████████████████████████████████████████████████████████████████████████████████████████████████████████████████████████████████████████████████████████████████████████████████████| 100/100 [00:02<00:00, 37.55it/s]\n"
     ]
    },
    {
     "name": "stdout",
     "output_type": "stream",
     "text": [
      "##########第5折##########\n"
     ]
    },
    {
     "name": "stderr",
     "output_type": "stream",
     "text": [
      "100%|██████████████████████████████████████████████████████████████████████████████████████████████████████████████████████████████████████████████████████████████████████████████████████████████████████████████████████| 100/100 [00:02<00:00, 35.86it/s]\n"
     ]
    },
    {
     "name": "stdout",
     "output_type": "stream",
     "text": [
      "##########第1折##########\n"
     ]
    },
    {
     "name": "stderr",
     "output_type": "stream",
     "text": [
      "100%|██████████████████████████████████████████████████████████████████████████████████████████████████████████████████████████████████████████████████████████████████████████████████████████████████████████████████████| 100/100 [00:02<00:00, 37.00it/s]\n"
     ]
    },
    {
     "name": "stdout",
     "output_type": "stream",
     "text": [
      "##########第2折##########\n"
     ]
    },
    {
     "name": "stderr",
     "output_type": "stream",
     "text": [
      "100%|██████████████████████████████████████████████████████████████████████████████████████████████████████████████████████████████████████████████████████████████████████████████████████████████████████████████████████| 100/100 [00:02<00:00, 36.95it/s]\n"
     ]
    },
    {
     "name": "stdout",
     "output_type": "stream",
     "text": [
      "##########第3折##########\n"
     ]
    },
    {
     "name": "stderr",
     "output_type": "stream",
     "text": [
      "100%|██████████████████████████████████████████████████████████████████████████████████████████████████████████████████████████████████████████████████████████████████████████████████████████████████████████████████████| 100/100 [00:02<00:00, 37.21it/s]\n"
     ]
    },
    {
     "name": "stdout",
     "output_type": "stream",
     "text": [
      "##########第4折##########\n"
     ]
    },
    {
     "name": "stderr",
     "output_type": "stream",
     "text": [
      "100%|██████████████████████████████████████████████████████████████████████████████████████████████████████████████████████████████████████████████████████████████████████████████████████████████████████████████████████| 100/100 [00:02<00:00, 37.17it/s]\n"
     ]
    },
    {
     "name": "stdout",
     "output_type": "stream",
     "text": [
      "##########第5折##########\n"
     ]
    },
    {
     "name": "stderr",
     "output_type": "stream",
     "text": [
      "100%|██████████████████████████████████████████████████████████████████████████████████████████████████████████████████████████████████████████████████████████████████████████████████████████████████████████████████████| 100/100 [00:02<00:00, 37.23it/s]\n"
     ]
    },
    {
     "name": "stdout",
     "output_type": "stream",
     "text": [
      "CPU times: user 44.6 s, sys: 272 ms, total: 44.8 s\n",
      "Wall time: 44.4 s\n"
     ]
    }
   ],
   "source": [
    "%%time\n",
    "#VAE_B\n",
    "#Clinical Network\n",
    "#DataSet\n",
    "class TcbbDataset(Dataset):\n",
    "    def __init__(self, data_path, label_path):\n",
    "        super(TcbbDataset, self).__init__()\n",
    "        self.data = pd.read_csv(data_path)\n",
    "        self.label = pd.read_csv(label_path)\n",
    "        self.label = self.label.astype(float)\n",
    "        self.x_data = torch.tensor(self.data.values, dtype=torch.float32)\n",
    "        self.y_data = torch.tensor(self.label.values, dtype=torch.float32)\n",
    "\n",
    "    def __getitem__(self, idx):\n",
    "        return self.x_data[idx], self.y_data[idx]\n",
    "\n",
    "    def __len__(self):\n",
    "        return len(self.x_data)\n",
    "\n",
    "clincal_dataset = TcbbDataset(clincal_data_path, label_data_path)\n",
    "in_features = clincal_dataset.x_data.shape[1]\n",
    "\n",
    "#Net Structure\n",
    "class Sample(nn.Module):\n",
    "    def __init__(self):\n",
    "        super(Sample, self).__init__()\n",
    "    def forward(self, z_mean, z_log_var):\n",
    "        eps = torch.randn(z_mean.shape)\n",
    "        eps = eps.to(device)\n",
    "        std = torch.exp(z_log_var / 2)\n",
    "        out = z_mean + std*eps\n",
    "        return out\n",
    "\n",
    "class Encoder(nn.Module):\n",
    "    def __init__(self):\n",
    "        super(Encoder, self).__init__()\n",
    "        self.model = nn.Sequential(\n",
    "            nn.Linear(in_features, 256),\n",
    "            nn.Dropout(p=0.15, inplace=False),\n",
    "            nn.ReLU(),\n",
    "            nn.Linear(256, 64),\n",
    "            nn.Dropout(p=0.15, inplace=False),\n",
    "            nn.ReLU(),\n",
    "            nn.Linear(64, 32),\n",
    "            nn.Dropout(p=0.15, inplace=False),\n",
    "            nn.ReLU()\n",
    "        )\n",
    "        self.z_mean = nn.Linear(32, 6)\n",
    "        self.z_log_var = nn.Linear(32, 6)\n",
    "        self.sample = Sample()\n",
    "\n",
    "    def forward(self, x):\n",
    "        out = self.model(x)\n",
    "        z_mean = self.z_mean(out)\n",
    "        z_log_var = self.z_log_var(out)\n",
    "        out = self.sample(z_mean, z_log_var)\n",
    "        return out, z_mean, z_log_var\n",
    "\n",
    "class Decoder(nn.Module):\n",
    "    def __init__(self):\n",
    "        super(Decoder, self).__init__()\n",
    "        self.model = nn.Sequential(\n",
    "            nn.Linear(6, 32),\n",
    "            nn.Dropout(p=0.15, inplace=False),\n",
    "            nn.ReLU(),\n",
    "            nn.Linear(32, 64),\n",
    "            nn.Dropout(p=0.15, inplace=False),\n",
    "            nn.ReLU(),\n",
    "            nn.Linear(64, 256),\n",
    "            nn.Dropout(p=0.15, inplace=False),\n",
    "            nn.ReLU(),\n",
    "            nn.Linear(256, in_features),\n",
    "            nn.Dropout(p=0.15, inplace=False),\n",
    "            nn.ReLU()\n",
    "        )\n",
    "\n",
    "    def forward(self, z):\n",
    "        out = self.model(z)\n",
    "        return out\n",
    "\n",
    "class Classfier(nn.Module):\n",
    "    def __init__(self):\n",
    "        super(Classfier, self).__init__()\n",
    "        self.model = nn.Sequential(\n",
    "            nn.Linear(in_features, 200, bias = True), #input layer\n",
    "            nn.BatchNorm1d(200, eps = 1e-3),\n",
    "            nn.ReLU(),\n",
    "            nn.Dropout(p=0.78, inplace=False),\n",
    "            nn.Linear(200, 400, bias = True), # 1 hidden layer\n",
    "            nn.BatchNorm1d(400, eps = 1e-3),\n",
    "            nn.ReLU(),\n",
    "            nn.Dropout(p=0.78, inplace=False),\n",
    "            nn.Linear(400, 100, bias = True), # 2 hidden layer\n",
    "            nn.BatchNorm1d(100, eps = 1e-3),\n",
    "            nn.ReLU(),\n",
    "            nn.Dropout(p=0.78, inplace=False),\n",
    "            nn.Linear(100, 2, bias = True), # 2 hidden layer\n",
    "            nn.Softmax(dim = 1)    #outpust layer\n",
    "        )\n",
    "    def forward(self, x):\n",
    "        x = self.model(x)\n",
    "        return x\n",
    "\n",
    "\n",
    "class VAE_B(nn.Module):\n",
    "    def __init__(self):\n",
    "        super(VAE_B, self).__init__()\n",
    "        self.encoder = Encoder()\n",
    "        self.decoder = Decoder()\n",
    "        self.classfier = Classfier()\n",
    "    def forward(self, x):\n",
    "        x, mean, var = self.encoder(x)\n",
    "        x = self.decoder(x)\n",
    "        x = self.classfier(x)\n",
    "        return x\n",
    "\n",
    "\n",
    "#Divide DataSet\n",
    "kfold = KFold(n_splits = 5)\n",
    "total_clincal_fpr = 0\n",
    "total_clincal_tpr = 0\n",
    "total_clincal_b_y_pred = 0\n",
    "total_clincal_b_y_t = 0\n",
    "num_epoch = 100\n",
    "max_accuracy = 0\n",
    "Clincal_B_Model = Classf()\n",
    "Clincal_B_Model.to(device)\n",
    "learning_rate = 1e-3\n",
    "optimizer = torch.optim.Adam(Clincal_B_Model.parameters(), lr=learning_rate)\n",
    "criterion = nn.CrossEntropyLoss()\n",
    "criterion.to(device)\n",
    "k_num = 1\n",
    "\n",
    "for train_idx, valid_idx in kfold.split(clincal_dataset):\n",
    "    print(\"##########第{}折##########\".format(k_num))\n",
    "    k_num = k_num + 1\n",
    "    clincal_train_set = Subset(clincal_dataset, train_idx)\n",
    "    clincal_test_set = Subset(clincal_dataset, valid_idx)\n",
    "    clincal_train_set, clincal_valid_set = train_test_split(clincal_train_set, test_size=0.2)\n",
    "    clincal_train_dataloader = DataLoader(clincal_train_set, batch_size=len(clincal_train_set))\n",
    "    clincal_valid_dataloader = DataLoader(clincal_valid_set, batch_size=len(clincal_test_set))\n",
    "    clincal_test_dataloader = DataLoader(clincal_test_set, batch_size = len(clincal_test_set))\n",
    "    for epoch in tqdm(range(num_epoch)):\n",
    "        #Train\n",
    "        Clincal_B_Model.train()\n",
    "        for data in clincal_train_dataloader:\n",
    "            x_data, y_t = data\n",
    "            x_data = x_data.to(device)\n",
    "            y_t = y_t.to(device)\n",
    "            y_t = y_t.squeeze(dim = 1)\n",
    "            y_pred = Clincal_B_Model(x_data)\n",
    "            loss = criterion(y_pred, y_t.long())\n",
    "\n",
    "            optimizer.zero_grad()\n",
    "            loss.backward()\n",
    "            optimizer.step()\n",
    "\n",
    "        #Eval\n",
    "        Clincal_B_Model.eval()\n",
    "        total_test_loss = 0\n",
    "        total_accuracy = 0\n",
    "        with torch.no_grad():\n",
    "            for data in clincal_valid_dataloader:\n",
    "                x_data , y_t = data\n",
    "                x_data = x_data.to(device)\n",
    "                y_t = y_t.to(device)\n",
    "                y_pred = Clincal_B_Model(x_data)\n",
    "                # print(y_pred\n",
    "                y_t = y_t.squeeze(dim = 1)\n",
    "                loss = criterion(y_pred, y_t.long())\n",
    "                total_test_loss = total_test_loss + loss.item()\n",
    "                accuracy = (y_pred.argmax(1) == y_t).sum()\n",
    "                total_accuracy = total_accuracy + accuracy\n",
    "        # print(\"Validation set's Loss：{}\".format(total_test_loss/num_epoch))\n",
    "        if((total_accuracy/len(clincal_valid_set)) > max_accuracy):\n",
    "            max_accuracy = total_accuracy/len(clincal_valid_set)\n",
    "            torch.save(Clincal_A_Model, \"/data/minwenwen/lixiaoyu/TCGA/Model/Clincal_B_Model_Best.pth\")\n",
    "    #Clincal TEST\n",
    "    clincal_model = torch.load('/data/minwenwen/lixiaoyu/TCGA/Model/Clincal_B_Model_Best.pth')\n",
    "    clincal_model.eval()\n",
    "    with torch.no_grad():\n",
    "        for data in clincal_test_dataloader:\n",
    "            x_data , y_t = data\n",
    "            x_data = x_data.to(device)\n",
    "            y_t = y_t.to(device)\n",
    "            y_pred = clincal_model(x_data)\n",
    "            y_t = y_t.squeeze(dim = 1)\n",
    "\n",
    "            y_t = y_t.cpu().numpy()\n",
    "            y_pred = y_pred.cpu().numpy()\n",
    "            clincal_y_pred = np.amin(y_pred, axis=1)\n",
    "            clincal_y_t = y_t\n",
    "\n",
    "            total_clincal_b_y_pred = np.r_[clincal_y_pred, total_clincal_b_y_pred]\n",
    "            total_clincal_b_y_t = np.r_[clincal_y_t, total_clincal_b_y_t]\n",
    "\n",
    "#Gene_Exp Network\n",
    "#DataSet\n",
    "gene_dataset = TcbbDataset(gene_data_path, label_data_path)\n",
    "in_features = gene_dataset.x_data.shape[1]\n",
    "\n",
    "#Divide DataSet\n",
    "total_gene_b_y_pred = 0\n",
    "total_gene_b_y_t =0\n",
    "Gene_B_Model = VAE_B()\n",
    "Gene_B_Model.to(device)\n",
    "learning_rate = 1e-3\n",
    "\n",
    "optimizer = torch.optim.Adam(Gene_B_Model.parameters(),lr=learning_rate) # 优化器使用Adam，传入网络参数和学习率\n",
    "criterion = nn.CrossEntropyLoss()# 损失函数使用交叉熵损失函数\n",
    "criterion.to(device)\n",
    "# num_epoch = 100\n",
    "max_accuracy = 0\n",
    "k_num = 1\n",
    "for train_idx, valid_idx in kfold.split(gene_dataset):\n",
    "    print(\"##########第{}折##########\".format(k_num))\n",
    "    k_num = k_num + 1\n",
    "    gene_train_set = Subset(gene_dataset, train_idx)\n",
    "    gene_test_set = Subset(gene_dataset, valid_idx)\n",
    "    gene_train_set, gene_valid_set = train_test_split(gene_train_set, test_size=0.2)\n",
    "    gene_train_dataloader = DataLoader(gene_train_set, batch_size=len(gene_train_set))\n",
    "    gene_valid_dataloader = DataLoader(gene_valid_set, batch_size=len(gene_valid_set))\n",
    "    gene_test_dataloader = DataLoader(gene_test_set, batch_size = len(gene_test_set))\n",
    "    for epoch in tqdm(range(num_epoch)):\n",
    "        #Train\n",
    "        Gene_B_Model.train()\n",
    "        for data in gene_train_dataloader:\n",
    "            x_data, y_t = data\n",
    "            x_data = x_data.to(device)\n",
    "            y_t = y_t.to(device)\n",
    "            y_t = y_t.squeeze(dim = 1)\n",
    "            y_pred = Gene_B_Model(x_data)\n",
    "            loss = criterion(y_pred, y_t.long())\n",
    "\n",
    "            optimizer.zero_grad()\n",
    "            loss.backward()\n",
    "            optimizer.step()\n",
    "\n",
    "        Gene_B_Model.eval()\n",
    "        total_test_loss = 0\n",
    "        total_accuracy = 0\n",
    "        with torch.no_grad():\n",
    "            for data in gene_valid_dataloader:\n",
    "                x_data , y_t = data\n",
    "                x_data = x_data.to(device)\n",
    "                y_t = y_t.to(device)\n",
    "                y_pred = Gene_B_Model(x_data)\n",
    "                y_t = y_t.squeeze(dim = 1)\n",
    "                loss = criterion(y_pred, y_t.long())\n",
    "                total_test_loss = total_test_loss + loss.item()\n",
    "                accuracy = (y_pred.argmax(1) == y_t).sum()\n",
    "                total_accuracy = total_accuracy + accuracy\n",
    "        if((total_accuracy/len(gene_valid_set)) > max_accuracy):\n",
    "            max_accuracy = total_accuracy/len(gene_valid_set)\n",
    "            torch.save(Gene_B_Model, \"/data/minwenwen/lixiaoyu/TCGA/Model/Gene_B_Model_Best.pth\")\n",
    "\n",
    "    gene_model = torch.load('/data/minwenwen/lixiaoyu/TCGA/Model/Gene_B_Model_Best.pth')\n",
    "    gene_model.eval()\n",
    "    with torch.no_grad():\n",
    "        for data in gene_test_dataloader:\n",
    "            x_data , y_t = data\n",
    "            x_data = x_data.to(device)\n",
    "            y_t = y_t.to(device)\n",
    "            y_pred = gene_model(x_data)\n",
    "            y_t = y_t.squeeze(dim = 1)\n",
    "            acc_tmp = (y_pred.argmax(1) == y_t).sum()\n",
    "            y_t = y_t.cpu().numpy()\n",
    "            y_pred = y_pred.cpu().numpy()\n",
    "            gene_y_pred = np.amin(y_pred, axis=1)\n",
    "            gene_y_t = y_t\n",
    "\n",
    "            total_gene_b_y_pred = np.r_[total_gene_b_y_pred, gene_y_pred]\n",
    "            total_gene_b_y_t = np.r_[total_gene_b_y_t, gene_y_t]\n",
    "\n",
    "#CNA_Exp Network\n",
    "#DataSet\n",
    "cna_dataset = TcbbDataset(cna_data_path, label_data_path)\n",
    "in_features = cna_dataset.x_data.shape[1]\n",
    "\n",
    "#Divide DataSet\n",
    "max_accuracy = 0\n",
    "k_num = 1\n",
    "total_cna_b_y_pred = 0\n",
    "total_cna_b_y_t = 0\n",
    "CNA_B_Model = VAE_B()\n",
    "CNA_B_Model.to(device)\n",
    "learning_rate = 1e-3\n",
    "\n",
    "optimizer = torch.optim.Adam(CNA_B_Model.parameters(),lr=learning_rate) # 优化器使用Adam，传入网络参数和学习率\n",
    "criterion = nn.CrossEntropyLoss()# 损失函数使用交叉熵损失函数\n",
    "criterion.to(device)\n",
    "# num_epoch = 100\n",
    "max_accuracy = 0\n",
    "for train_idx, valid_idx in kfold.split(cna_dataset):\n",
    "    print(\"##########第{}折##########\".format(k_num))\n",
    "    k_num = k_num + 1\n",
    "    cna_train_set = Subset(cna_dataset, train_idx)\n",
    "    cna_test_set = Subset(cna_dataset, valid_idx)\n",
    "    cna_train_set, cna_valid_set = train_test_split(cna_train_set, test_size=0.2)\n",
    "    cna_train_dataloader = DataLoader(cna_train_set, batch_size=len(cna_train_set))\n",
    "    cna_valid_dataloader = DataLoader(cna_valid_set, batch_size=len(cna_valid_set))\n",
    "    cna_test_dataloader = DataLoader(cna_test_set, batch_size = len(cna_test_set))\n",
    "\n",
    "    for epoch in tqdm(range(num_epoch)):\n",
    "     #Train\n",
    "        CNA_B_Model.train()\n",
    "        for data in cna_train_dataloader:\n",
    "            x_data, y_t = data\n",
    "            x_data = x_data.to(device)\n",
    "            y_t = y_t.to(device)\n",
    "            y_t = y_t.squeeze(dim = 1)\n",
    "            y_pred = CNA_B_Model(x_data)\n",
    "            loss = criterion(y_pred, y_t.long())\n",
    "\n",
    "            optimizer.zero_grad()\n",
    "            loss.backward()\n",
    "            optimizer.step()\n",
    "\n",
    "    #Eval\n",
    "        CNA_B_Model.eval()\n",
    "        total_test_loss = 0\n",
    "        total_accuracy = 0\n",
    "        with torch.no_grad():\n",
    "            for data in cna_valid_dataloader:\n",
    "                x_data , y_t = data\n",
    "                x_data = x_data.to(device)\n",
    "                y_t = y_t.to(device)\n",
    "                y_pred = CNA_B_Model(x_data)\n",
    "                y_t = y_t.squeeze(dim = 1)\n",
    "                loss = criterion(y_pred, y_t.long())\n",
    "                total_test_loss = total_test_loss + loss.item()\n",
    "                accuracy = (y_pred.argmax(1) == y_t).sum()\n",
    "                total_accuracy = total_accuracy + accuracy\n",
    "        if((total_accuracy/len(cna_valid_set)) > max_accuracy):\n",
    "            max_accuracy = total_accuracy/len(cna_valid_set)\n",
    "            torch.save(CNA_B_Model, \"/data/minwenwen/lixiaoyu/TCGA/Model/CNA_B_Model_Best.pth\")\n",
    "\n",
    "    cna_model = torch.load('/data/minwenwen/lixiaoyu/TCGA/Model/CNA_B_Model_Best.pth')\n",
    "    cna_model.eval()\n",
    "    with torch.no_grad():\n",
    "        for data in cna_test_dataloader:\n",
    "            x_data , y_t = data\n",
    "            x_data = x_data.to(device)\n",
    "            y_t = y_t.to(device)\n",
    "            y_pred = cna_model(x_data)\n",
    "            y_t = y_t.squeeze(dim = 1)\n",
    "            acc_tmp = (y_pred.argmax(1) == y_t).sum()\n",
    "            y_t = y_t.cpu().numpy()\n",
    "            y_pred = y_pred.cpu().numpy()\n",
    "            cna_y_pred = np.amin(y_pred, axis=1)\n",
    "            cna_y_t = y_t\n",
    "\n",
    "            total_cna_b_y_pred = np.r_[total_cna_b_y_pred, cna_y_pred]\n",
    "            total_cna_b_y_t = np.r_[total_cna_b_y_t, cna_y_t]\n",
    "\n",
    "\n",
    "#Microbiome\n",
    "\n",
    "#CNA_Exp Network\n",
    "#DataSet\n",
    "micro_dataset = TcbbDataset(micro_data_path, label_data_path)\n",
    "in_features = micro_dataset.x_data.shape[1]\n",
    "\n",
    "#Divide DataSet\n",
    "max_accuracy = 0\n",
    "k_num = 1\n",
    "total_micro_b_y_pred = 0\n",
    "total_micro_b_y_t = 0\n",
    "MICRO_B_Model = VAE_B()\n",
    "MICRO_B_Model.to(device)\n",
    "learning_rate = 1e-3\n",
    "\n",
    "optimizer = torch.optim.Adam(MICRO_B_Model.parameters(),lr=learning_rate) # 优化器使用Adam，传入网络参数和学习率\n",
    "criterion = nn.CrossEntropyLoss()# 损失函数使用交叉熵损失函数\n",
    "criterion.to(device)\n",
    "# num_epoch = 100\n",
    "max_accuracy = 0\n",
    "for train_idx, valid_idx in kfold.split(cna_dataset):\n",
    "    print(\"##########第{}折##########\".format(k_num))\n",
    "    k_num = k_num + 1\n",
    "    micro_train_set = Subset(micro_dataset, train_idx)\n",
    "    micro_test_set = Subset(micro_dataset, valid_idx)\n",
    "    micro_train_set, micro_valid_set = train_test_split(micro_train_set, test_size=0.2)\n",
    "    micro_train_dataloader = DataLoader(micro_train_set, batch_size=len(micro_train_set))\n",
    "    micro_valid_dataloader = DataLoader(micro_valid_set, batch_size=len(micro_valid_set))\n",
    "    micro_test_dataloader = DataLoader(micro_test_set, batch_size = len(micro_test_set))\n",
    "\n",
    "    for epoch in tqdm(range(num_epoch)):\n",
    "     #Train\n",
    "        MICRO_B_Model.train()\n",
    "        for data in micro_train_dataloader:\n",
    "            x_data, y_t = data\n",
    "            x_data = x_data.to(device)\n",
    "            y_t = y_t.to(device)\n",
    "            y_t = y_t.squeeze(dim = 1)\n",
    "            y_pred = MICRO_B_Model (x_data)\n",
    "            loss = criterion(y_pred, y_t.long())\n",
    "\n",
    "            optimizer.zero_grad()\n",
    "            loss.backward()\n",
    "            optimizer.step()\n",
    "\n",
    "    #Eval\n",
    "        MICRO_B_Model.eval()\n",
    "        total_test_loss = 0\n",
    "        total_accuracy = 0\n",
    "        with torch.no_grad():\n",
    "            for data in micro_valid_dataloader:\n",
    "                x_data , y_t = data\n",
    "                x_data = x_data.to(device)\n",
    "                y_t = y_t.to(device)\n",
    "                y_pred = MICRO_B_Model (x_data)\n",
    "                y_t = y_t.squeeze(dim = 1)\n",
    "                loss = criterion(y_pred, y_t.long())\n",
    "                total_test_loss = total_test_loss + loss.item()\n",
    "                accuracy = (y_pred.argmax(1) == y_t).sum()\n",
    "                total_accuracy = total_accuracy + accuracy\n",
    "        if((total_accuracy/len(micro_valid_set)) > max_accuracy):\n",
    "            max_accuracy = total_accuracy/len(micro_valid_set)\n",
    "            torch.save(MICRO_B_Model, \"/data/minwenwen/lixiaoyu/TCGA/Model/MICRO_B_Model_Best.pth\")\n",
    "\n",
    "    micro_model = torch.load('/data/minwenwen/lixiaoyu/TCGA/Model/MICRO_B_Model_Best.pth')\n",
    "    micro_model.eval()\n",
    "    with torch.no_grad():\n",
    "        for data in micro_test_dataloader:\n",
    "            x_data , y_t = data\n",
    "            x_data = x_data.to(device)\n",
    "            y_t = y_t.to(device)\n",
    "            y_pred = micro_model(x_data)\n",
    "            y_t = y_t.squeeze(dim = 1)\n",
    "            acc_tmp = (y_pred.argmax(1) == y_t).sum()\n",
    "            y_t = y_t.cpu().numpy()\n",
    "            y_pred = y_pred.cpu().numpy()\n",
    "            micro_y_pred = np.amin(y_pred, axis=1)\n",
    "            micro_y_t = y_t\n",
    "\n",
    "            total_micro_b_y_pred = np.r_[total_micro_b_y_pred, micro_y_pred]\n",
    "            total_micro_b_y_t = np.r_[total_micro_b_y_t,micro_y_t]\n"
   ],
   "metadata": {
    "collapsed": false
   }
  },
  {
   "cell_type": "code",
   "execution_count": 14,
   "outputs": [
    {
     "data": {
      "text/plain": "<Figure size 640x480 with 1 Axes>",
      "image/png": "[encoded data removed]"
     },
     "metadata": {},
     "output_type": "display_data"
    }
   ],
   "source": [
    "# vae_a_y_pred = np.amin(vae_a_y_pred, axis=1)\n",
    "vae_b_fpr, vae_b_tpr, vae_b_thresholds = roc_curve(total_vae_b_y_t, total_vae_b_y_pred)\n",
    "clincal_b_fpr, clincal_b_tpr, clincal_b_thresholds = roc_curve(total_clincal_b_y_t, total_clincal_b_y_pred)\n",
    "cna_b_fpr, cna_b_tpr, cna_b_thresholds = roc_curve(total_cna_b_y_t, total_cna_b_y_pred)\n",
    "gene_b_fpr, gene_b_tpr, gene_b_thresholds = roc_curve(total_gene_b_y_t, total_gene_b_y_pred)\n",
    "micro_b_fpr, micro_b_tpr, micro_b_thresholds = roc_curve(total_micro_b_y_t, total_micro_b_y_pred)\n",
    "\n",
    "\n",
    "vae_b_roc_auc = auc(vae_b_fpr, vae_b_tpr)\n",
    "clincal_b_roc_auc = auc(clincal_b_fpr, clincal_b_tpr)\n",
    "cna_b_roc_auc = auc(cna_b_fpr, cna_b_tpr)\n",
    "gene_b_roc_auc = auc(gene_b_fpr, gene_b_tpr)\n",
    "micro_b_roc_auc = auc(micro_b_fpr, micro_b_tpr)\n",
    "\n",
    "\n",
    "plt.title(\"Unimodel and Multimodal's VAE_B ROC curve\")\n",
    "plt.plot(vae_b_fpr, vae_b_tpr, 'blue',label=u'VAE_B = %0.3f'% vae_b_roc_auc)\n",
    "plt.plot(clincal_b_fpr, clincal_b_tpr, 'black',label=u'Clincal = %0.3f'% clincal_b_roc_auc)\n",
    "plt.plot(cna_b_fpr, cna_b_tpr, 'green',label=u'CNA = %0.3f'% cna_b_roc_auc)\n",
    "plt.plot(gene_b_fpr, gene_b_tpr, 'red',label=u'GENE = %0.3f'% gene_b_roc_auc)\n",
    "plt.plot(micro_b_fpr, micro_b_tpr, 'c',label=u'MICRO = %0.3f'% micro_b_roc_auc)\n",
    "plt.legend(loc='lower right')\n",
    "# plt.plot([0,1],[0,1],'r--')\n",
    "ax = plt.gca()\n",
    "x_major_locator=MultipleLocator(0.2)\n",
    "y_major_locator=MultipleLocator(0.2)\n",
    "ax.xaxis.set_major_locator(x_major_locator)\n",
    "ax.yaxis.set_major_locator(y_major_locator)\n",
    "plt.xlim([0,1])\n",
    "plt.ylim([0,1])\n",
    "plt.ylabel('Sn')\n",
    "plt.xlabel('1-sp')\n",
    "# plt.grid(linestyle='-.')\n",
    "# plt.grid(True)\n",
    "plt.show()\n",
    "\n",
    "\n",
    "\n"
   ],
   "metadata": {
    "collapsed": false
   }
  },
  {
   "cell_type": "code",
   "execution_count": 15,
   "outputs": [
    {
     "name": "stdout",
     "output_type": "stream",
     "text": [
      "##########第1折##########\n"
     ]
    },
    {
     "name": "stderr",
     "output_type": "stream",
     "text": [
      "100%|█████████████████████████████████████████████████████████████████████████████████████████████████████████████████████████████████████████████████████████████████████████████████████████████████████████████████████| 100/100 [00:00<00:00, 140.21it/s]\n"
     ]
    },
    {
     "name": "stdout",
     "output_type": "stream",
     "text": [
      "##########第2折##########\n"
     ]
    },
    {
     "name": "stderr",
     "output_type": "stream",
     "text": [
      "100%|█████████████████████████████████████████████████████████████████████████████████████████████████████████████████████████████████████████████████████████████████████████████████████████████████████████████████████| 100/100 [00:00<00:00, 118.75it/s]\n"
     ]
    },
    {
     "name": "stdout",
     "output_type": "stream",
     "text": [
      "##########第3折##########\n"
     ]
    },
    {
     "name": "stderr",
     "output_type": "stream",
     "text": [
      "100%|█████████████████████████████████████████████████████████████████████████████████████████████████████████████████████████████████████████████████████████████████████████████████████████████████████████████████████| 100/100 [00:00<00:00, 153.92it/s]\n"
     ]
    },
    {
     "name": "stdout",
     "output_type": "stream",
     "text": [
      "##########第4折##########\n"
     ]
    },
    {
     "name": "stderr",
     "output_type": "stream",
     "text": [
      "100%|█████████████████████████████████████████████████████████████████████████████████████████████████████████████████████████████████████████████████████████████████████████████████████████████████████████████████████| 100/100 [00:00<00:00, 152.41it/s]\n"
     ]
    },
    {
     "name": "stdout",
     "output_type": "stream",
     "text": [
      "##########第5折##########\n"
     ]
    },
    {
     "name": "stderr",
     "output_type": "stream",
     "text": [
      "100%|█████████████████████████████████████████████████████████████████████████████████████████████████████████████████████████████████████████████████████████████████████████████████████████████████████████████████████| 100/100 [00:00<00:00, 149.85it/s]\n"
     ]
    },
    {
     "name": "stdout",
     "output_type": "stream",
     "text": [
      "##########第1折##########\n"
     ]
    },
    {
     "name": "stderr",
     "output_type": "stream",
     "text": [
      "100%|██████████████████████████████████████████████████████████████████████████████████████████████████████████████████████████████████████████████████████████████████████████████████████████████████████████████████████| 100/100 [00:02<00:00, 46.86it/s]\n"
     ]
    },
    {
     "name": "stdout",
     "output_type": "stream",
     "text": [
      "##########第2折##########\n"
     ]
    },
    {
     "name": "stderr",
     "output_type": "stream",
     "text": [
      "100%|██████████████████████████████████████████████████████████████████████████████████████████████████████████████████████████████████████████████████████████████████████████████████████████████████████████████████████| 100/100 [00:02<00:00, 47.13it/s]\n"
     ]
    },
    {
     "name": "stdout",
     "output_type": "stream",
     "text": [
      "##########第3折##########\n"
     ]
    },
    {
     "name": "stderr",
     "output_type": "stream",
     "text": [
      "100%|██████████████████████████████████████████████████████████████████████████████████████████████████████████████████████████████████████████████████████████████████████████████████████████████████████████████████████| 100/100 [00:02<00:00, 46.97it/s]\n"
     ]
    },
    {
     "name": "stdout",
     "output_type": "stream",
     "text": [
      "##########第4折##########\n"
     ]
    },
    {
     "name": "stderr",
     "output_type": "stream",
     "text": [
      "100%|██████████████████████████████████████████████████████████████████████████████████████████████████████████████████████████████████████████████████████████████████████████████████████████████████████████████████████| 100/100 [00:02<00:00, 46.97it/s]\n"
     ]
    },
    {
     "name": "stdout",
     "output_type": "stream",
     "text": [
      "##########第5折##########\n"
     ]
    },
    {
     "name": "stderr",
     "output_type": "stream",
     "text": [
      "100%|██████████████████████████████████████████████████████████████████████████████████████████████████████████████████████████████████████████████████████████████████████████████████████████████████████████████████████| 100/100 [00:02<00:00, 44.61it/s]\n"
     ]
    },
    {
     "name": "stdout",
     "output_type": "stream",
     "text": [
      "##########第1折##########\n"
     ]
    },
    {
     "name": "stderr",
     "output_type": "stream",
     "text": [
      "100%|██████████████████████████████████████████████████████████████████████████████████████████████████████████████████████████████████████████████████████████████████████████████████████████████████████████████████████| 100/100 [00:02<00:00, 45.35it/s]\n"
     ]
    },
    {
     "name": "stdout",
     "output_type": "stream",
     "text": [
      "##########第2折##########\n"
     ]
    },
    {
     "name": "stderr",
     "output_type": "stream",
     "text": [
      "100%|██████████████████████████████████████████████████████████████████████████████████████████████████████████████████████████████████████████████████████████████████████████████████████████████████████████████████████| 100/100 [00:02<00:00, 46.80it/s]\n"
     ]
    },
    {
     "name": "stdout",
     "output_type": "stream",
     "text": [
      "##########第3折##########\n"
     ]
    },
    {
     "name": "stderr",
     "output_type": "stream",
     "text": [
      "100%|██████████████████████████████████████████████████████████████████████████████████████████████████████████████████████████████████████████████████████████████████████████████████████████████████████████████████████| 100/100 [00:02<00:00, 47.17it/s]\n"
     ]
    },
    {
     "name": "stdout",
     "output_type": "stream",
     "text": [
      "##########第4折##########\n"
     ]
    },
    {
     "name": "stderr",
     "output_type": "stream",
     "text": [
      "100%|██████████████████████████████████████████████████████████████████████████████████████████████████████████████████████████████████████████████████████████████████████████████████████████████████████████████████████| 100/100 [00:02<00:00, 47.67it/s]\n"
     ]
    },
    {
     "name": "stdout",
     "output_type": "stream",
     "text": [
      "##########第5折##########\n"
     ]
    },
    {
     "name": "stderr",
     "output_type": "stream",
     "text": [
      "100%|██████████████████████████████████████████████████████████████████████████████████████████████████████████████████████████████████████████████████████████████████████████████████████████████████████████████████████| 100/100 [00:02<00:00, 46.88it/s]\n"
     ]
    },
    {
     "name": "stdout",
     "output_type": "stream",
     "text": [
      "##########第1折##########\n"
     ]
    },
    {
     "name": "stderr",
     "output_type": "stream",
     "text": [
      "100%|██████████████████████████████████████████████████████████████████████████████████████████████████████████████████████████████████████████████████████████████████████████████████████████████████████████████████████| 100/100 [00:02<00:00, 45.71it/s]\n"
     ]
    },
    {
     "name": "stdout",
     "output_type": "stream",
     "text": [
      "##########第2折##########\n"
     ]
    },
    {
     "name": "stderr",
     "output_type": "stream",
     "text": [
      "100%|██████████████████████████████████████████████████████████████████████████████████████████████████████████████████████████████████████████████████████████████████████████████████████████████████████████████████████| 100/100 [00:02<00:00, 47.33it/s]\n"
     ]
    },
    {
     "name": "stdout",
     "output_type": "stream",
     "text": [
      "##########第3折##########\n"
     ]
    },
    {
     "name": "stderr",
     "output_type": "stream",
     "text": [
      "100%|██████████████████████████████████████████████████████████████████████████████████████████████████████████████████████████████████████████████████████████████████████████████████████████████████████████████████████| 100/100 [00:02<00:00, 43.26it/s]\n"
     ]
    },
    {
     "name": "stdout",
     "output_type": "stream",
     "text": [
      "##########第4折##########\n"
     ]
    },
    {
     "name": "stderr",
     "output_type": "stream",
     "text": [
      "100%|██████████████████████████████████████████████████████████████████████████████████████████████████████████████████████████████████████████████████████████████████████████████████████████████████████████████████████| 100/100 [00:02<00:00, 47.23it/s]\n"
     ]
    },
    {
     "name": "stdout",
     "output_type": "stream",
     "text": [
      "##########第5折##########\n"
     ]
    },
    {
     "name": "stderr",
     "output_type": "stream",
     "text": [
      "100%|██████████████████████████████████████████████████████████████████████████████████████████████████████████████████████████████████████████████████████████████████████████████████████████████████████████████████████| 100/100 [00:02<00:00, 47.71it/s]"
     ]
    },
    {
     "name": "stdout",
     "output_type": "stream",
     "text": [
      "CPU times: user 36.7 s, sys: 275 ms, total: 37 s\n",
      "Wall time: 36.6 s\n"
     ]
    },
    {
     "name": "stderr",
     "output_type": "stream",
     "text": [
      "\n"
     ]
    }
   ],
   "source": [
    "%%time\n",
    "#VAE_C\n",
    "#Clinical Network\n",
    "#DataSet\n",
    "class TcbbDataset(Dataset):\n",
    "    def __init__(self, data_path, label_path):\n",
    "        super(TcbbDataset, self).__init__()\n",
    "        self.data = pd.read_csv(data_path)\n",
    "        self.label = pd.read_csv(label_path)\n",
    "        self.label = self.label.astype(float)\n",
    "        self.x_data = torch.tensor(self.data.values, dtype=torch.float32)\n",
    "        self.y_data = torch.tensor(self.label.values, dtype=torch.float32)\n",
    "\n",
    "    def __getitem__(self, idx):\n",
    "        return self.x_data[idx], self.y_data[idx]\n",
    "\n",
    "    def __len__(self):\n",
    "        return len(self.x_data)\n",
    "\n",
    "clincal_dataset = TcbbDataset(clincal_data_path, label_data_path)\n",
    "in_features = clincal_dataset.x_data.shape[1]\n",
    "\n",
    "#Net Structure\n",
    "class Sample(nn.Module):\n",
    "    def __init__(self):\n",
    "        super(Sample, self).__init__()\n",
    "    def forward(self, z_mean, z_log_var):\n",
    "        eps = torch.randn(z_mean.shape)\n",
    "        eps = eps.to(device)\n",
    "        std = torch.exp(z_log_var / 2)\n",
    "        out = z_mean + std*eps\n",
    "        return out\n",
    "\n",
    "class Encoder(nn.Module):\n",
    "    def __init__(self):\n",
    "        super(Encoder, self).__init__()\n",
    "        self.model = nn.Sequential(\n",
    "            nn.Linear(in_features, 256),\n",
    "            nn.Dropout(p=0.15, inplace=False),\n",
    "            nn.ReLU(),\n",
    "            nn.Linear(256, 64),\n",
    "            nn.Dropout(p=0.15, inplace=False),\n",
    "            nn.ReLU(),\n",
    "            nn.Linear(64, 32),\n",
    "            nn.Dropout(p=0.15, inplace=False),\n",
    "            nn.ReLU()\n",
    "        )\n",
    "        self.z_mean = nn.Linear(32, 6)\n",
    "        self.z_log_var = nn.Linear(32, 6)\n",
    "        self.sample = Sample()\n",
    "\n",
    "    def forward(self, x):\n",
    "        out = self.model(x)\n",
    "        z_mean = self.z_mean(out)\n",
    "        z_log_var = self.z_log_var(out)\n",
    "        out = self.sample(z_mean, z_log_var)\n",
    "        return out, z_mean, z_log_var\n",
    "\n",
    "class Decoder(nn.Module):\n",
    "    def __init__(self):\n",
    "        super(Decoder, self).__init__()\n",
    "        self.model = nn.Sequential(\n",
    "            nn.Linear(6, 32),\n",
    "            nn.Dropout(p=0.15, inplace=False),\n",
    "            nn.ReLU(),\n",
    "            nn.Linear(32, 64),\n",
    "            nn.Dropout(p=0.15, inplace=False),\n",
    "            nn.ReLU(),\n",
    "            nn.Linear(64, 256),\n",
    "            nn.Dropout(p=0.15, inplace=False),\n",
    "            nn.ReLU(),\n",
    "            nn.Linear(256, 50),\n",
    "            nn.Dropout(p=0.15, inplace=False),\n",
    "            nn.ReLU()\n",
    "        )\n",
    "\n",
    "    def forward(self, z):\n",
    "        out = self.model(z)\n",
    "        return out\n",
    "\n",
    "class Classfier(nn.Module):\n",
    "    def __init__(self):\n",
    "        super(Classfier, self).__init__()\n",
    "        self.model = nn.Sequential(\n",
    "            nn.Linear(6, 200, bias = True), #input layer\n",
    "            nn.BatchNorm1d(200, eps = 1e-3),\n",
    "            nn.ReLU(),\n",
    "            nn.Dropout(p=0.78, inplace=False),\n",
    "            nn.Linear(200, 400, bias = True), # 1 hidden layer\n",
    "            nn.BatchNorm1d(400, eps = 1e-3),\n",
    "            nn.ReLU(),\n",
    "            nn.Dropout(p=0.78, inplace=False),\n",
    "            nn.Linear(400, 100, bias = True), # 2 hidden layer\n",
    "            nn.BatchNorm1d(100, eps = 1e-3),\n",
    "            nn.ReLU(),\n",
    "            nn.Dropout(p=0.78, inplace=False),\n",
    "            nn.Linear(100, 2, bias = True), # 2 hidden layer\n",
    "            nn.Softmax(dim = 1)    #outpust layer\n",
    "        )\n",
    "    def forward(self, x):\n",
    "        x = self.model(x)\n",
    "        return x\n",
    "\n",
    "class VAE_C(nn.Module):\n",
    "    def __init__(self):\n",
    "        super(VAE_C, self).__init__()\n",
    "        self.encoder = Encoder()\n",
    "        self.decoder = Decoder()\n",
    "        self.classfier = Classfier()\n",
    "    def forward(self, x):\n",
    "        x, mean, var = self.encoder(x)\n",
    "        # x = self.decoder(x)\n",
    "        x = self.classfier(x)\n",
    "        return x\n",
    "\n",
    "class Classf(nn.Module):\n",
    "    def __init__(self):\n",
    "        super(Classf, self).__init__()\n",
    "        self.model = nn.Sequential(\n",
    "            nn.Linear(in_features, 100, bias = True), #input layer\n",
    "            nn.BatchNorm1d(100, eps = 1e-3),\n",
    "            nn.ReLU(),\n",
    "            nn.Dropout(p=0.5, inplace=False),\n",
    "            nn.Linear(100, 2, bias = True), # 2 hidden layer\n",
    "            nn.Softmax(dim = 1)    #outpust layer\n",
    "        )\n",
    "    def forward(self, x):\n",
    "        x = self.model(x)\n",
    "        return x\n",
    "#Divide DataSet\n",
    "kfold = KFold(n_splits = 5)\n",
    "total_clincal_fpr = 0\n",
    "total_clincal_tpr = 0\n",
    "total_clincal_c_y_pred = 0\n",
    "total_clincal_c_y_t = 0\n",
    "num_epoch = 100\n",
    "max_accuracy = 0\n",
    "Clincal_C_Model = Classf()\n",
    "Clincal_C_Model.to(device)\n",
    "learning_rate = 1e-3\n",
    "optimizer = torch.optim.Adam(Clincal_C_Model.parameters(), lr=learning_rate)\n",
    "criterion = nn.CrossEntropyLoss()\n",
    "criterion.to(device)\n",
    "k_num = 1\n",
    "\n",
    "for train_idx, valid_idx in kfold.split(clincal_dataset):\n",
    "    print(\"##########第{}折##########\".format(k_num))\n",
    "    k_num = k_num + 1\n",
    "    clincal_train_set = Subset(clincal_dataset, train_idx)\n",
    "    clincal_test_set = Subset(clincal_dataset, valid_idx)\n",
    "    clincal_train_set, clincal_valid_set = train_test_split(clincal_train_set, test_size=0.2)\n",
    "    clincal_train_dataloader = DataLoader(clincal_train_set, batch_size=len(clincal_train_set))\n",
    "    clincal_valid_dataloader = DataLoader(clincal_valid_set, batch_size=len(clincal_test_set))\n",
    "    clincal_test_dataloader = DataLoader(clincal_test_set, batch_size = len(clincal_test_set))\n",
    "    for epoch in tqdm(range(num_epoch)):\n",
    "        #Train\n",
    "        Clincal_C_Model.train()\n",
    "        for data in clincal_train_dataloader:\n",
    "            x_data, y_t = data\n",
    "            x_data = x_data.to(device)\n",
    "            y_t = y_t.to(device)\n",
    "            y_t = y_t.squeeze(dim = 1)\n",
    "            y_pred = Clincal_C_Model(x_data)\n",
    "            loss = criterion(y_pred, y_t.long())\n",
    "\n",
    "            optimizer.zero_grad()\n",
    "            loss.backward()\n",
    "            optimizer.step()\n",
    "\n",
    "        #Eval\n",
    "        Clincal_C_Model.eval()\n",
    "        total_test_loss = 0\n",
    "        total_accuracy = 0\n",
    "        with torch.no_grad():\n",
    "            for data in clincal_valid_dataloader:\n",
    "                x_data , y_t = data\n",
    "                x_data = x_data.to(device)\n",
    "                y_t = y_t.to(device)\n",
    "                y_pred = Clincal_C_Model(x_data)\n",
    "                # print(y_pred\n",
    "                y_t = y_t.squeeze(dim = 1)\n",
    "                loss = criterion(y_pred, y_t.long())\n",
    "                total_test_loss = total_test_loss + loss.item()\n",
    "                accuracy = (y_pred.argmax(1) == y_t).sum()\n",
    "                total_accuracy = total_accuracy + accuracy\n",
    "        # print(\"Validation set's Loss：{}\".format(total_test_loss/num_epoch))\n",
    "        if((total_accuracy/len(clincal_valid_set)) > max_accuracy):\n",
    "            max_accuracy = total_accuracy/len(clincal_valid_set)\n",
    "            torch.save(Clincal_C_Model, \"/data/minwenwen/lixiaoyu/TCGA/Model/Clincal_C_Model_Best.pth\")\n",
    "    #Clincal TEST\n",
    "    clincal_model = torch.load('/data/minwenwen/lixiaoyu/TCGA/Model/Clincal_C_Model_Best.pth')\n",
    "    clincal_model.eval()\n",
    "    with torch.no_grad():\n",
    "        for data in clincal_test_dataloader:\n",
    "            x_data , y_t = data\n",
    "            x_data = x_data.to(device)\n",
    "            y_t = y_t.to(device)\n",
    "            y_pred = clincal_model(x_data)\n",
    "            y_t = y_t.squeeze(dim = 1)\n",
    "\n",
    "            y_t = y_t.cpu().numpy()\n",
    "            y_pred = y_pred.cpu().numpy()\n",
    "            clincal_y_pred = np.amin(y_pred, axis=1)\n",
    "            clincal_y_t = y_t\n",
    "\n",
    "            total_clincal_c_y_pred = np.r_[clincal_y_pred, total_clincal_c_y_pred]\n",
    "            total_clincal_c_y_t = np.r_[clincal_y_t, total_clincal_c_y_t]\n",
    "\n",
    "#Gene_Exp Network\n",
    "#DataSet\n",
    "gene_dataset = TcbbDataset(gene_data_path, label_data_path)\n",
    "in_features = gene_dataset.x_data.shape[1]\n",
    "\n",
    "#Divide DataSet\n",
    "total_gene_c_y_pred = 0\n",
    "total_gene_c_y_t =0\n",
    "Gene_C_Model = VAE_C()\n",
    "Gene_C_Model.to(device)\n",
    "learning_rate = 1e-3\n",
    "\n",
    "optimizer = torch.optim.Adam(Gene_C_Model.parameters(),lr=learning_rate) # 优化器使用Adam，传入网络参数和学习率\n",
    "criterion = nn.CrossEntropyLoss()# 损失函数使用交叉熵损失函数\n",
    "criterion.to(device)\n",
    "# num_epoch = 100\n",
    "max_accuracy = 0\n",
    "k_num = 1\n",
    "for train_idx, valid_idx in kfold.split(gene_dataset):\n",
    "    print(\"##########第{}折##########\".format(k_num))\n",
    "    k_num = k_num + 1\n",
    "    gene_train_set = Subset(gene_dataset, train_idx)\n",
    "    gene_test_set = Subset(gene_dataset, valid_idx)\n",
    "    gene_train_set, gene_valid_set = train_test_split(gene_train_set, test_size=0.2)\n",
    "    gene_train_dataloader = DataLoader(gene_train_set, batch_size=len(gene_train_set))\n",
    "    gene_valid_dataloader = DataLoader(gene_valid_set, batch_size=len(gene_valid_set))\n",
    "    gene_test_dataloader = DataLoader(gene_test_set, batch_size = len(gene_test_set))\n",
    "    for epoch in tqdm(range(num_epoch)):\n",
    "        #Train\n",
    "        Gene_C_Model.train()\n",
    "        for data in gene_train_dataloader:\n",
    "            x_data, y_t = data\n",
    "            x_data = x_data.to(device)\n",
    "            y_t = y_t.to(device)\n",
    "            y_t = y_t.squeeze(dim = 1)\n",
    "            y_pred = Gene_C_Model(x_data)\n",
    "            loss = criterion(y_pred, y_t.long())\n",
    "\n",
    "            optimizer.zero_grad()\n",
    "            loss.backward()\n",
    "            optimizer.step()\n",
    "\n",
    "        Gene_C_Model.eval()\n",
    "        total_test_loss = 0\n",
    "        total_accuracy = 0\n",
    "        with torch.no_grad():\n",
    "            for data in gene_valid_dataloader:\n",
    "                x_data , y_t = data\n",
    "                x_data = x_data.to(device)\n",
    "                y_t = y_t.to(device)\n",
    "                y_pred = Gene_C_Model(x_data)\n",
    "                y_t = y_t.squeeze(dim = 1)\n",
    "                loss = criterion(y_pred, y_t.long())\n",
    "                total_test_loss = total_test_loss + loss.item()\n",
    "                accuracy = (y_pred.argmax(1) == y_t).sum()\n",
    "                total_accuracy = total_accuracy + accuracy\n",
    "        if((total_accuracy/len(gene_valid_set)) > max_accuracy):\n",
    "            max_accuracy = total_accuracy/len(gene_valid_set)\n",
    "            torch.save(Gene_C_Model, \"/data/minwenwen/lixiaoyu/TCGA/Model/Gene_C_Model_Best.pth\")\n",
    "\n",
    "    gene_model = torch.load('/data/minwenwen/lixiaoyu/TCGA/Model/Gene_C_Model_Best.pth')\n",
    "    gene_model.eval()\n",
    "    with torch.no_grad():\n",
    "        for data in gene_test_dataloader:\n",
    "            x_data , y_t = data\n",
    "            x_data = x_data.to(device)\n",
    "            y_t = y_t.to(device)\n",
    "            y_pred = gene_model(x_data)\n",
    "            y_t = y_t.squeeze(dim = 1)\n",
    "            acc_tmp = (y_pred.argmax(1) == y_t).sum()\n",
    "            y_t = y_t.cpu().numpy()\n",
    "            y_pred = y_pred.cpu().numpy()\n",
    "            gene_y_pred = np.amin(y_pred, axis=1)\n",
    "            gene_y_t = y_t\n",
    "\n",
    "            total_gene_c_y_pred = np.r_[total_gene_c_y_pred, gene_y_pred]\n",
    "            total_gene_c_y_t = np.r_[total_gene_c_y_t, gene_y_t]\n",
    "\n",
    "#CNA_Exp Network\n",
    "#DataSet\n",
    "cna_dataset = TcbbDataset(cna_data_path, label_data_path)\n",
    "in_features = cna_dataset.x_data.shape[1]\n",
    "\n",
    "#Divide DataSet\n",
    "max_accuracy = 0\n",
    "k_num = 1\n",
    "total_cna_c_y_pred = 0\n",
    "total_cna_c_y_t = 0\n",
    "CNA_C_Model = VAE_C()\n",
    "CNA_C_Model.to(device)\n",
    "learning_rate = 1e-3\n",
    "\n",
    "optimizer = torch.optim.Adam(CNA_C_Model.parameters(),lr=learning_rate) # 优化器使用Adam，传入网络参数和学习率\n",
    "criterion = nn.CrossEntropyLoss()# 损失函数使用交叉熵损失函数\n",
    "criterion.to(device)\n",
    "# num_epoch = 100\n",
    "max_accuracy = 0\n",
    "for train_idx, valid_idx in kfold.split(cna_dataset):\n",
    "    print(\"##########第{}折##########\".format(k_num))\n",
    "    k_num = k_num + 1\n",
    "    cna_train_set = Subset(cna_dataset, train_idx)\n",
    "    cna_test_set = Subset(cna_dataset, valid_idx)\n",
    "    cna_train_set, cna_valid_set = train_test_split(cna_train_set, test_size=0.2)\n",
    "    cna_train_dataloader = DataLoader(cna_train_set, batch_size=len(cna_train_set))\n",
    "    cna_valid_dataloader = DataLoader(cna_valid_set, batch_size=len(cna_valid_set))\n",
    "    cna_test_dataloader = DataLoader(cna_test_set, batch_size = len(cna_test_set))\n",
    "\n",
    "    for epoch in tqdm(range(num_epoch)):\n",
    "     #Train\n",
    "        CNA_C_Model.train()\n",
    "        for data in cna_train_dataloader:\n",
    "            x_data, y_t = data\n",
    "            x_data = x_data.to(device)\n",
    "            y_t = y_t.to(device)\n",
    "            y_t = y_t.squeeze(dim = 1)\n",
    "            y_pred = CNA_C_Model(x_data)\n",
    "            loss = criterion(y_pred, y_t.long())\n",
    "\n",
    "            optimizer.zero_grad()\n",
    "            loss.backward()\n",
    "            optimizer.step()\n",
    "\n",
    "    #Eval\n",
    "        CNA_C_Model.eval()\n",
    "        total_test_loss = 0\n",
    "        total_accuracy = 0\n",
    "        with torch.no_grad():\n",
    "            for data in cna_valid_dataloader:\n",
    "                x_data , y_t = data\n",
    "                x_data = x_data.to(device)\n",
    "                y_t = y_t.to(device)\n",
    "                y_pred = CNA_C_Model(x_data)\n",
    "                y_t = y_t.squeeze(dim = 1)\n",
    "                loss = criterion(y_pred, y_t.long())\n",
    "                total_test_loss = total_test_loss + loss.item()\n",
    "                accuracy = (y_pred.argmax(1) == y_t).sum()\n",
    "                total_accuracy = total_accuracy + accuracy\n",
    "        if((total_accuracy/len(cna_valid_set)) > max_accuracy):\n",
    "            max_accuracy = total_accuracy/len(cna_valid_set)\n",
    "            torch.save(CNA_C_Model, \"/data/minwenwen/lixiaoyu/TCGA/Model/CNA_C_Model_Best.pth\")\n",
    "\n",
    "    cna_model = torch.load('/data/minwenwen/lixiaoyu/TCGA/Model/CNA_C_Model_Best.pth')\n",
    "    cna_model.eval()\n",
    "    with torch.no_grad():\n",
    "        for data in cna_test_dataloader:\n",
    "            x_data , y_t = data\n",
    "            x_data = x_data.to(device)\n",
    "            y_t = y_t.to(device)\n",
    "            y_pred = cna_model(x_data)\n",
    "            y_t = y_t.squeeze(dim = 1)\n",
    "            acc_tmp = (y_pred.argmax(1) == y_t).sum()\n",
    "            y_t = y_t.cpu().numpy()\n",
    "            y_pred = y_pred.cpu().numpy()\n",
    "            cna_y_pred = np.amin(y_pred, axis=1)\n",
    "            cna_y_t = y_t\n",
    "\n",
    "            total_cna_c_y_pred = np.r_[total_cna_c_y_pred, cna_y_pred]\n",
    "            total_cna_c_y_t = np.r_[total_cna_c_y_t, cna_y_t]\n",
    "\n",
    "\n",
    "#Microbiome\n",
    "\n",
    "#CNA_Exp Network\n",
    "#DataSet\n",
    "micro_dataset = TcbbDataset(micro_data_path, label_data_path)\n",
    "in_features = micro_dataset.x_data.shape[1]\n",
    "\n",
    "#Divide DataSet\n",
    "max_accuracy = 0\n",
    "k_num = 1\n",
    "total_micro_c_y_pred = 0\n",
    "total_micro_c_y_t = 0\n",
    "MICRO_C_Model = VAE_C()\n",
    "MICRO_C_Model.to(device)\n",
    "learning_rate = 1e-3\n",
    "\n",
    "optimizer = torch.optim.Adam(MICRO_C_Model.parameters(),lr=learning_rate) # 优化器使用Adam，传入网络参数和学习率\n",
    "criterion = nn.CrossEntropyLoss()# 损失函数使用交叉熵损失函数\n",
    "criterion.to(device)\n",
    "# num_epoch = 100\n",
    "max_accuracy = 0\n",
    "for train_idx, valid_idx in kfold.split(cna_dataset):\n",
    "    print(\"##########第{}折##########\".format(k_num))\n",
    "    k_num = k_num + 1\n",
    "    micro_train_set = Subset(micro_dataset, train_idx)\n",
    "    micro_test_set = Subset(micro_dataset, valid_idx)\n",
    "    micro_train_set, micro_valid_set = train_test_split(micro_train_set, test_size=0.2)\n",
    "    micro_train_dataloader = DataLoader(micro_train_set, batch_size=len(micro_train_set))\n",
    "    micro_valid_dataloader = DataLoader(micro_valid_set, batch_size=len(micro_valid_set))\n",
    "    micro_test_dataloader = DataLoader(micro_test_set, batch_size = len(micro_test_set))\n",
    "\n",
    "    for epoch in tqdm(range(num_epoch)):\n",
    "     #Train\n",
    "        MICRO_C_Model.train()\n",
    "        for data in micro_train_dataloader:\n",
    "            x_data, y_t = data\n",
    "            x_data = x_data.to(device)\n",
    "            y_t = y_t.to(device)\n",
    "            y_t = y_t.squeeze(dim = 1)\n",
    "            y_pred = MICRO_C_Model (x_data)\n",
    "            loss = criterion(y_pred, y_t.long())\n",
    "\n",
    "            optimizer.zero_grad()\n",
    "            loss.backward()\n",
    "            optimizer.step()\n",
    "\n",
    "    #Eval\n",
    "        MICRO_C_Model.eval()\n",
    "        total_test_loss = 0\n",
    "        total_accuracy = 0\n",
    "        with torch.no_grad():\n",
    "            for data in micro_valid_dataloader:\n",
    "                x_data , y_t = data\n",
    "                x_data = x_data.to(device)\n",
    "                y_t = y_t.to(device)\n",
    "                y_pred = MICRO_C_Model (x_data)\n",
    "                y_t = y_t.squeeze(dim = 1)\n",
    "                loss = criterion(y_pred, y_t.long())\n",
    "                total_test_loss = total_test_loss + loss.item()\n",
    "                accuracy = (y_pred.argmax(1) == y_t).sum()\n",
    "                total_accuracy = total_accuracy + accuracy\n",
    "        if((total_accuracy/len(micro_valid_set)) > max_accuracy):\n",
    "            max_accuracy = total_accuracy/len(micro_valid_set)\n",
    "            torch.save(MICRO_C_Model, \"/data/minwenwen/lixiaoyu/TCGA/Model/MICRO_C_Model_Best.pth\")\n",
    "\n",
    "    micro_model = torch.load('/data/minwenwen/lixiaoyu/TCGA/Model/MICRO_C_Model_Best.pth')\n",
    "    micro_model.eval()\n",
    "    with torch.no_grad():\n",
    "        for data in micro_test_dataloader:\n",
    "            x_data , y_t = data\n",
    "            x_data = x_data.to(device)\n",
    "            y_t = y_t.to(device)\n",
    "            y_pred = micro_model(x_data)\n",
    "            y_t = y_t.squeeze(dim = 1)\n",
    "            acc_tmp = (y_pred.argmax(1) == y_t).sum()\n",
    "            y_t = y_t.cpu().numpy()\n",
    "            y_pred = y_pred.cpu().numpy()\n",
    "            micro_y_pred = np.amin(y_pred, axis=1)\n",
    "            micro_y_t = y_t\n",
    "\n",
    "            total_micro_c_y_pred = np.r_[total_micro_c_y_pred, micro_y_pred]\n",
    "            total_micro_c_y_t = np.r_[total_micro_c_y_t,micro_y_t]\n"
   ],
   "metadata": {
    "collapsed": false
   }
  },
  {
   "cell_type": "code",
   "execution_count": 16,
   "outputs": [
    {
     "data": {
      "text/plain": "<Figure size 640x480 with 1 Axes>",
      "image/png": "[encoded data removed]"
     },
     "metadata": {},
     "output_type": "display_data"
    }
   ],
   "source": [
    "# vae_a_y_pred = np.amin(vae_a_y_pred, axis=1)\n",
    "vae_c_fpr, vae_c_tpr, vae_c_thresholds = roc_curve(total_vae_c_y_t, total_vae_c_y_pred)\n",
    "clincal_c_fpr, clincal_c_tpr, clincal_c_thresholds = roc_curve(total_clincal_c_y_t, total_clincal_c_y_pred)\n",
    "cna_c_fpr, cna_c_tpr, cna_c_thresholds = roc_curve(total_cna_c_y_t, total_cna_c_y_pred)\n",
    "gene_c_fpr, gene_c_tpr, gene_c_thresholds = roc_curve(total_gene_c_y_t, total_gene_c_y_pred)\n",
    "micro_c_fpr, micro_c_tpr, micro_c_thresholds = roc_curve(total_micro_c_y_t, total_micro_c_y_pred)\n",
    "\n",
    "\n",
    "vae_c_roc_auc = auc(vae_c_fpr, vae_c_tpr)\n",
    "clincal_c_roc_auc = auc(clincal_c_fpr, clincal_c_tpr)\n",
    "cna_c_roc_auc = auc(cna_c_fpr, cna_c_tpr)\n",
    "gene_c_roc_auc = auc(gene_c_fpr, gene_c_tpr)\n",
    "micro_c_roc_auc = auc(micro_c_fpr, micro_c_tpr)\n",
    "\n",
    "\n",
    "plt.title(\"Unimodel and Multimodal's VAE_C ROC curve\")\n",
    "plt.plot(vae_c_fpr, vae_c_tpr, 'blue',label=u'VAE_C = %0.3f'% vae_c_roc_auc)\n",
    "plt.plot(clincal_c_fpr, clincal_c_tpr, 'black',label=u'Clincal = %0.3f'% clincal_c_roc_auc)\n",
    "plt.plot(cna_c_fpr, cna_c_tpr, 'green',label=u'CNA = %0.3f'% cna_c_roc_auc)\n",
    "plt.plot(gene_c_fpr, gene_c_tpr, 'red',label=u'GENE = %0.3f'% gene_c_roc_auc)\n",
    "plt.plot(micro_c_fpr, micro_c_tpr, 'c',label=u'MICRO = %0.3f'% micro_c_roc_auc)\n",
    "plt.legend(loc='lower right')\n",
    "# plt.plot([0,1],[0,1],'r--')\n",
    "ax = plt.gca()\n",
    "x_major_locator=MultipleLocator(0.2)\n",
    "y_major_locator=MultipleLocator(0.2)\n",
    "ax.xaxis.set_major_locator(x_major_locator)\n",
    "ax.yaxis.set_major_locator(y_major_locator)\n",
    "plt.xlim([0,1])\n",
    "plt.ylim([0,1])\n",
    "plt.ylabel('Sn')\n",
    "plt.xlabel('1-sp')\n",
    "# plt.grid(linestyle='-.')\n",
    "# plt.grid(True)\n",
    "plt.show()\n",
    "\n",
    "\n",
    "\n"
   ],
   "metadata": {
    "collapsed": false
   }
  },
  {
   "cell_type": "code",
   "execution_count": 16,
   "outputs": [],
   "source": [],
   "metadata": {
    "collapsed": false
   }
  }
 ],
 "metadata": {
  "kernelspec": {
   "name": "lxy",
   "language": "python",
   "display_name": "lxy"
  },
  "language_info": {
   "codemirror_mode": {
    "name": "ipython",
    "version": 2
   },
   "file_extension": ".py",
   "mimetype": "text/x-python",
   "name": "python",
   "nbconvert_exporter": "python",
   "pygments_lexer": "ipython2",
   "version": "2.7.6"
  }
 },
 "nbformat": 4,
 "nbformat_minor": 0
}
