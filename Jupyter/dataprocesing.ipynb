{
 "cells": [
  {
   "cell_type": "code",
   "execution_count": 45,
   "outputs": [],
   "source": [
    "import pandas as pd\n",
    "import scipy\n",
    "from scipy import stats\n",
    "from sklearn.preprocessing import StandardScaler"
   ],
   "metadata": {
    "collapsed": false
   }
  },
  {
   "cell_type": "code",
   "execution_count": 46,
   "outputs": [
    {
     "data": {
      "text/plain": "             20\n0     35.044876\n1      0.427393\n2     34.450801\n3     10.290298\n4    106.881021\n..          ...\n495   96.689351\n496   38.432456\n497    7.002663\n498   28.931190\n499   73.314265\n\n[500 rows x 1 columns]",
      "text/html": "<div>\n<style scoped>\n    .dataframe tbody tr th:only-of-type {\n        vertical-align: middle;\n    }\n\n    .dataframe tbody tr th {\n        vertical-align: top;\n    }\n\n    .dataframe thead th {\n        text-align: right;\n    }\n</style>\n<table border=\"1\" class=\"dataframe\">\n  <thead>\n    <tr style=\"text-align: right;\">\n      <th></th>\n      <th>20</th>\n    </tr>\n  </thead>\n  <tbody>\n    <tr>\n      <th>0</th>\n      <td>35.044876</td>\n    </tr>\n    <tr>\n      <th>1</th>\n      <td>0.427393</td>\n    </tr>\n    <tr>\n      <th>2</th>\n      <td>34.450801</td>\n    </tr>\n    <tr>\n      <th>3</th>\n      <td>10.290298</td>\n    </tr>\n    <tr>\n      <th>4</th>\n      <td>106.881021</td>\n    </tr>\n    <tr>\n      <th>...</th>\n      <td>...</td>\n    </tr>\n    <tr>\n      <th>495</th>\n      <td>96.689351</td>\n    </tr>\n    <tr>\n      <th>496</th>\n      <td>38.432456</td>\n    </tr>\n    <tr>\n      <th>497</th>\n      <td>7.002663</td>\n    </tr>\n    <tr>\n      <th>498</th>\n      <td>28.931190</td>\n    </tr>\n    <tr>\n      <th>499</th>\n      <td>73.314265</td>\n    </tr>\n  </tbody>\n</table>\n<p>500 rows × 1 columns</p>\n</div>"
     },
     "execution_count": 46,
     "metadata": {},
     "output_type": "execute_result"
    }
   ],
   "source": [
    "data = pd.read_csv('/data/minwenwen/lixiaoyu/TCGA/data/UCEC/Clean-300/UCEC_time.csv', index_col=0)\n",
    "data"
   ],
   "metadata": {
    "collapsed": false
   }
  },
  {
   "cell_type": "code",
   "execution_count": 47,
   "outputs": [
    {
     "data": {
      "text/plain": "500"
     },
     "execution_count": 47,
     "metadata": {},
     "output_type": "execute_result"
    }
   ],
   "source": [
    "train_data = data.iloc[0:350,:]\n",
    "valid_data = data.iloc[350:450,:]\n",
    "test_data = data.iloc[450:500,:]\n",
    "len(train_data) + len(valid_data) + len(test_data)"
   ],
   "metadata": {
    "collapsed": false
   }
  },
  {
   "cell_type": "code",
   "execution_count": 48,
   "outputs": [],
   "source": [
    "train_data.to_csv('/data/minwenwen/lixiaoyu/TCGA/data/UCEC/train/ucec_time.csv')\n",
    "valid_data.to_csv('/data/minwenwen/lixiaoyu/TCGA/data/UCEC/valid/ucec_time.csv')\n",
    "test_data.to_csv('/data/minwenwen/lixiaoyu/TCGA/data/UCEC/test/ucec_time.csv')"
   ],
   "metadata": {
    "collapsed": false
   }
  },
  {
   "cell_type": "code",
   "execution_count": 48,
   "outputs": [],
   "source": [],
   "metadata": {
    "collapsed": false
   }
  }
 ],
 "metadata": {
  "kernelspec": {
   "name": "lxy",
   "language": "python",
   "display_name": "lxy"
  },
  "language_info": {
   "codemirror_mode": {
    "name": "ipython",
    "version": 2
   },
   "file_extension": ".py",
   "mimetype": "text/x-python",
   "name": "python",
   "nbconvert_exporter": "python",
   "pygments_lexer": "ipython2",
   "version": "2.7.6"
  }
 },
 "nbformat": 4,
 "nbformat_minor": 0
}
